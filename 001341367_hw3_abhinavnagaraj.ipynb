{
 "cells": [
  {
   "cell_type": "markdown",
   "metadata": {},
   "source": [
    "# ASSIGNMENT 3 : \n",
    "Abhinav Nagaraj\n",
    "NUID : 001341367\n",
    "Email : nagaraj.ab@husky.neu.edu\n"
   ]
  },
  {
   "cell_type": "markdown",
   "metadata": {},
   "source": [
    "Using classes and methods from lecture 3 day 2 for creating distributions and finding probability"
   ]
  },
  {
   "cell_type": "code",
   "execution_count": 1,
   "metadata": {},
   "outputs": [],
   "source": [
    "class ProbDist(dict):\n",
    "    \"\"\"A Probability Distribution; an {outcome: probability} mapping.\"\"\"\n",
    "    def __init__(self, mapping=(), **kwargs):\n",
    "        self.update(mapping, **kwargs)\n",
    "        # Make probabilities sum to 1.0; assert no negative probabilities\n",
    "        total = sum(self.values())\n",
    "        for outcome in self:\n",
    "            self[outcome] = self[outcome] / total\n",
    "            assert self[outcome] >= 0"
   ]
  },
  {
   "cell_type": "code",
   "execution_count": 2,
   "metadata": {},
   "outputs": [],
   "source": [
    "def p(event, space): \n",
    "    \"\"\"The probability of an event, given a sample space of outcomes. \n",
    "    event: a collection of outcomes, or a predicate that is true of outcomes in the event. \n",
    "    space: a set of outcomes or a probability distribution of {outcome: frequency} pairs.\"\"\"\n",
    "    \n",
    "    # if event is a predicate it, \"unroll\" it as a collection \n",
    "    if is_predicate(event):\n",
    "        event = such_that(event, space)\n",
    "        \n",
    "    # if space is not an equiprobably collection (a simple set), \n",
    "    # but a probability distribution instead (a dictionary set),\n",
    "    # then add (union) the probabilities for all favorable outcomes\n",
    "    if isinstance(space, ProbDist):\n",
    "        return sum(space[o] for o in space if o in event)\n",
    "    \n",
    "    # simplest case: what we played with in our previous lesson\n",
    "    else:\n",
    "        return Fraction(len(event & space), len(space))\n",
    "\n",
    "is_predicate = callable\n",
    "\n",
    "# Here we either return a simple collection in the case of equiprobable outcomes, or a dictionary collection in the\n",
    "# case of non-equiprobably outcomes\n",
    "def such_that(predicate, space): \n",
    "    \"\"\"The outcomes in the sample pace for which the predicate is true.\n",
    "    If space is a set, return a subset {outcome,...} with outcomes where predicate(element) is true;\n",
    "    if space is a ProbDist, return a ProbDist {outcome: frequency,...} with outcomes where predicate(element) is true.\"\"\"\n",
    "    if isinstance(space, ProbDist):\n",
    "        return ProbDist({o:space[o] for o in space if predicate(o)})\n",
    "    else:\n",
    "        return {o for o in space if predicate(o)}"
   ]
  },
  {
   "cell_type": "code",
   "execution_count": 3,
   "metadata": {},
   "outputs": [],
   "source": [
    "def joint(A,sep=''):\n",
    "    \"\"\"The joint distribution of two independent probability distributions. \n",
    "    Result is all entries of the form {a+sep+b: P(a)*P(b)}\"\"\"\n",
    "    return ProbDist({a + sep + b: A[a] * A[b]\n",
    "                    for a in A\n",
    "                    for b in A})"
   ]
  },
  {
   "cell_type": "markdown",
   "metadata": {},
   "source": [
    "# Question 1 \n",
    "What is the Probability Distribution for each F1 driver to win the Singaporean Grand Prix? What is the Probability Distribution for each F1 driver to win both the Singaporean and Russian Grand Prix? What is the probability for Mercedes to win both races? What is the probability for Mercedes to win at least one race? Note that Mercedes, and each other racing team, has two drivers per race."
   ]
  },
  {
   "cell_type": "markdown",
   "metadata": {},
   "source": [
    "The Probability Distribution of each driver to win the singapore grand prix."
   ]
  },
  {
   "cell_type": "code",
   "execution_count": 4,
   "metadata": {
    "scrolled": true
   },
   "outputs": [
    {
     "data": {
      "text/plain": [
       "{'LH': 0.19887955182072828,\n",
       " 'VB': 0.15476190476190477,\n",
       " 'MV': 0.12955182072829133,\n",
       " 'CL': 0.12745098039215685,\n",
       " 'SV': 0.11834733893557423,\n",
       " 'PG': 0.04551820728291316,\n",
       " 'CS': 0.04061624649859944,\n",
       " 'DR': 0.023809523809523808,\n",
       " 'AA': 0.023809523809523808,\n",
       " 'DK': 0.023109243697478993,\n",
       " 'NH': 0.021708683473389355,\n",
       " 'KR': 0.021708683473389355,\n",
       " 'SP': 0.018907563025210083,\n",
       " 'LN': 0.01750700280112045,\n",
       " 'LS': 0.01330532212885154,\n",
       " 'KM': 0.012605042016806723,\n",
       " 'RG': 0.0056022408963585435,\n",
       " 'AG': 0.0021008403361344537,\n",
       " 'RK': 0.0007002801120448179,\n",
       " 'GR': 0.0}"
      ]
     },
     "execution_count": 4,
     "metadata": {},
     "output_type": "execute_result"
    }
   ],
   "source": [
    "SGP = ProbDist(\n",
    "    LH = 284, VB=221,MV=185,CL=182,SV=169,PG=65,CS=58,DR=34,AA=34,DK=33,NH=31,\n",
    "    KR=31,SP=27,LN=25,LS=19,KM=18,RG=8,AG=3,RK=1,GR=0)\n",
    "    \n",
    "SGP"
   ]
  },
  {
   "cell_type": "markdown",
   "metadata": {},
   "source": [
    "\n",
    "The probability distribution of all drivers winning both races."
   ]
  },
  {
   "cell_type": "code",
   "execution_count": 5,
   "metadata": {},
   "outputs": [
    {
     "data": {
      "text/plain": [
       "{'LH,LH': 0.03955307613241369,\n",
       " 'LH,VB': 0.03077897825796981,\n",
       " 'LH,MV': 0.02576520804400188,\n",
       " 'LH,CL': 0.025347393859504547,\n",
       " 'LH,SV': 0.023536865726682798,\n",
       " 'LH,PG': 0.009052640664108767,\n",
       " 'LH,CS': 0.00807774090028167,\n",
       " 'LH,DR': 0.004735227424303048,\n",
       " 'LH,AA': 0.004735227424303048,\n",
       " 'LH,DK': 0.004595956029470606,\n",
       " 'LH,NH': 0.0043174132398057195,\n",
       " 'LH,KR': 0.0043174132398057195,\n",
       " 'LH,SP': 0.0037603276604759495,\n",
       " 'LH,LN': 0.0034817848708110647,\n",
       " 'LH,LS': 0.002646156501816409,\n",
       " 'LH,KM': 0.0025068851069839663,\n",
       " 'LH,RG': 0.0011141711586595408,\n",
       " 'LH,AG': 0.00041781418449732776,\n",
       " 'LH,RK': 0.0001392713948324426,\n",
       " 'LH,GR': 0.0,\n",
       " 'VB,LH': 0.03077897825796981,\n",
       " 'VB,VB': 0.02395124716553285,\n",
       " 'VB,MV': 0.020049686541283154,\n",
       " 'VB,CL': 0.019724556489262343,\n",
       " 'VB,SV': 0.018315659597172178,\n",
       " 'VB,PG': 0.007044484460450837,\n",
       " 'VB,CS': 0.006285847672402286,\n",
       " 'VB,DR': 0.003684807256235823,\n",
       " 'VB,AA': 0.003684807256235823,\n",
       " 'VB,DK': 0.003576430572228887,\n",
       " 'VB,NH': 0.003359677204215015,\n",
       " 'VB,KR': 0.003359677204215015,\n",
       " 'VB,SP': 0.0029261704681872707,\n",
       " 'VB,LN': 0.0027094171001733995,\n",
       " 'VB,LS': 0.0020591569961317833,\n",
       " 'VB,KM': 0.0019507803121248475,\n",
       " 'VB,RG': 0.0008670134720554877,\n",
       " 'VB,AG': 0.0003251300520208079,\n",
       " 'VB,RK': 0.00010837668400693596,\n",
       " 'VB,GR': 0.0,\n",
       " 'MV,LH': 0.02576520804400188,\n",
       " 'MV,VB': 0.020049686541283154,\n",
       " 'MV,MV': 0.016783674254015314,\n",
       " 'MV,CL': 0.016511506563409658,\n",
       " 'MV,SV': 0.015332113237451823,\n",
       " 'MV,PG': 0.005896966629789163,\n",
       " 'MV,CS': 0.005261908685042638,\n",
       " 'MV,DR': 0.0030845671601974086,\n",
       " 'MV,AA': 0.0030845671601974086,\n",
       " 'MV,DK': 0.002993844596662191,\n",
       " 'MV,NH': 0.0028123994695917545,\n",
       " 'MV,KR': 0.0028123994695917545,\n",
       " 'MV,SP': 0.0024495092154508827,\n",
       " 'MV,LN': 0.0022680640883804472,\n",
       " 'MV,LS': 0.00172372870716914,\n",
       " 'MV,KM': 0.0016330061436339222,\n",
       " 'MV,RG': 0.0007257805082817432,\n",
       " 'MV,AG': 0.00027216769060565364,\n",
       " 'MV,RK': 9.07225635352179e-05,\n",
       " 'MV,GR': 0.0,\n",
       " 'CL,LH': 0.025347393859504547,\n",
       " 'CL,VB': 0.019724556489262343,\n",
       " 'CL,MV': 0.016511506563409658,\n",
       " 'CL,CL': 0.01624375240292193,\n",
       " 'CL,SV': 0.015083484374141792,\n",
       " 'CL,PG': 0.005801340143900689,\n",
       " 'CL,CS': 0.005176580436096,\n",
       " 'CL,DR': 0.0030345471521942067,\n",
       " 'CL,AA': 0.0030345471521942067,\n",
       " 'CL,DK': 0.0029452957653649655,\n",
       " 'CL,NH': 0.0027667929917064827,\n",
       " 'CL,KR': 0.0027667929917064827,\n",
       " 'CL,SP': 0.002409787444389517,\n",
       " 'CL,LN': 0.0022312846707310346,\n",
       " 'CL,LS': 0.0016957763497555862,\n",
       " 'CL,KM': 0.0016065249629263448,\n",
       " 'CL,RG': 0.000714011094633931,\n",
       " 'CL,AG': 0.0002677541604877241,\n",
       " 'CL,RK': 8.925138682924137e-05,\n",
       " 'CL,GR': 0.0,\n",
       " 'SV,LH': 0.023536865726682798,\n",
       " 'SV,VB': 0.018315659597172178,\n",
       " 'SV,MV': 0.015332113237451823,\n",
       " 'SV,CL': 0.015083484374141792,\n",
       " 'SV,SV': 0.014006092633131665,\n",
       " 'SV,PG': 0.00538695870505064,\n",
       " 'SV,CS': 0.004806824690660572,\n",
       " 'SV,DR': 0.0028177937841803347,\n",
       " 'SV,AA': 0.0028177937841803347,\n",
       " 'SV,DK': 0.0027349174964103255,\n",
       " 'SV,NH': 0.0025691649208703054,\n",
       " 'SV,KR': 0.0025691649208703054,\n",
       " 'SV,SP': 0.0022376597697902657,\n",
       " 'SV,LN': 0.0020719071942502465,\n",
       " 'SV,LS': 0.001574649467630187,\n",
       " 'SV,KM': 0.0014917731798601774,\n",
       " 'SV,RG': 0.0006630103021600789,\n",
       " 'SV,AG': 0.00024862886331002956,\n",
       " 'SV,RK': 8.287628777000986e-05,\n",
       " 'SV,GR': 0.0,\n",
       " 'PG,LH': 0.009052640664108767,\n",
       " 'PG,VB': 0.007044484460450837,\n",
       " 'PG,MV': 0.005896966629789163,\n",
       " 'PG,CL': 0.005801340143900689,\n",
       " 'PG,SV': 0.00538695870505064,\n",
       " 'PG,PG': 0.0020719071942502465,\n",
       " 'PG,CS': 0.0018487787271771429,\n",
       " 'PG,DR': 0.0010837668400693595,\n",
       " 'PG,AA': 0.0010837668400693595,\n",
       " 'PG,DK': 0.001051891344773202,\n",
       " 'PG,NH': 0.0009881403541808866,\n",
       " 'PG,KR': 0.0009881403541808866,\n",
       " 'PG,SP': 0.000860638372996256,\n",
       " 'PG,LN': 0.0007968873824039409,\n",
       " 'PG,LS': 0.000605634410626995,\n",
       " 'PG,KM': 0.0005737589153308374,\n",
       " 'PG,RG': 0.0002550039623692611,\n",
       " 'PG,AG': 9.562648588847291e-05,\n",
       " 'PG,RK': 3.187549529615764e-05,\n",
       " 'PG,GR': 0.0,\n",
       " 'CS,LH': 0.00807774090028167,\n",
       " 'CS,VB': 0.006285847672402286,\n",
       " 'CS,MV': 0.005261908685042638,\n",
       " 'CS,CL': 0.005176580436096,\n",
       " 'CS,SV': 0.004806824690660572,\n",
       " 'CS,PG': 0.0018487787271771429,\n",
       " 'CS,CS': 0.001649679479634989,\n",
       " 'CS,DR': 0.0009670534880618901,\n",
       " 'CS,AA': 0.0009670534880618901,\n",
       " 'CS,DK': 0.0009386107384130111,\n",
       " 'CS,NH': 0.0008817252391152528,\n",
       " 'CS,KR': 0.0008817252391152528,\n",
       " 'CS,SP': 0.0007679542405197363,\n",
       " 'CS,LN': 0.000711068741221978,\n",
       " 'CS,LS': 0.0005404122433287033,\n",
       " 'CS,KM': 0.0005119694936798243,\n",
       " 'CS,RG': 0.00022754199719103298,\n",
       " 'CS,AG': 8.532824894663737e-05,\n",
       " 'CS,RK': 2.8442749648879122e-05,\n",
       " 'CS,GR': 0.0,\n",
       " 'DR,LH': 0.004735227424303048,\n",
       " 'DR,VB': 0.003684807256235823,\n",
       " 'DR,MV': 0.0030845671601974086,\n",
       " 'DR,CL': 0.0030345471521942067,\n",
       " 'DR,SV': 0.0028177937841803347,\n",
       " 'DR,PG': 0.0010837668400693595,\n",
       " 'DR,CS': 0.0009670534880618901,\n",
       " 'DR,DR': 0.0005668934240362803,\n",
       " 'DR,AA': 0.0005668934240362803,\n",
       " 'DR,DK': 0.0005502200880352134,\n",
       " 'DR,NH': 0.0005168734160330792,\n",
       " 'DR,KR': 0.0005168734160330792,\n",
       " 'DR,SP': 0.00045018007202881087,\n",
       " 'DR,LN': 0.0004168334000266768,\n",
       " 'DR,LS': 0.0003167933840202743,\n",
       " 'DR,KM': 0.0003001200480192073,\n",
       " 'DR,RG': 0.00013338668800853655,\n",
       " 'DR,AG': 5.002000800320121e-05,\n",
       " 'DR,RK': 1.667333600106707e-05,\n",
       " 'DR,GR': 0.0,\n",
       " 'AA,LH': 0.004735227424303048,\n",
       " 'AA,VB': 0.003684807256235823,\n",
       " 'AA,MV': 0.0030845671601974086,\n",
       " 'AA,CL': 0.0030345471521942067,\n",
       " 'AA,SV': 0.0028177937841803347,\n",
       " 'AA,PG': 0.0010837668400693595,\n",
       " 'AA,CS': 0.0009670534880618901,\n",
       " 'AA,DR': 0.0005668934240362803,\n",
       " 'AA,AA': 0.0005668934240362803,\n",
       " 'AA,DK': 0.0005502200880352134,\n",
       " 'AA,NH': 0.0005168734160330792,\n",
       " 'AA,KR': 0.0005168734160330792,\n",
       " 'AA,SP': 0.00045018007202881087,\n",
       " 'AA,LN': 0.0004168334000266768,\n",
       " 'AA,LS': 0.0003167933840202743,\n",
       " 'AA,KM': 0.0003001200480192073,\n",
       " 'AA,RG': 0.00013338668800853655,\n",
       " 'AA,AG': 5.002000800320121e-05,\n",
       " 'AA,RK': 1.667333600106707e-05,\n",
       " 'AA,GR': 0.0,\n",
       " 'DK,LH': 0.004595956029470606,\n",
       " 'DK,VB': 0.003576430572228887,\n",
       " 'DK,MV': 0.002993844596662191,\n",
       " 'DK,CL': 0.0029452957653649655,\n",
       " 'DK,SV': 0.0027349174964103255,\n",
       " 'DK,PG': 0.001051891344773202,\n",
       " 'DK,CS': 0.0009386107384130111,\n",
       " 'DK,DR': 0.0005502200880352134,\n",
       " 'DK,AA': 0.0005502200880352134,\n",
       " 'DK,DK': 0.0005340371442694718,\n",
       " 'DK,NH': 0.0005016712567379887,\n",
       " 'DK,KR': 0.0005016712567379887,\n",
       " 'DK,SP': 0.00043693948167502236,\n",
       " 'DK,LN': 0.00040457359414353925,\n",
       " 'DK,LS': 0.0003074759315490898,\n",
       " 'DK,KM': 0.0002912929877833483,\n",
       " 'DK,RG': 0.00012946355012593256,\n",
       " 'DK,AG': 4.8548831297224705e-05,\n",
       " 'DK,RK': 1.618294376574157e-05,\n",
       " 'DK,GR': 0.0,\n",
       " 'NH,LH': 0.0043174132398057195,\n",
       " 'NH,VB': 0.003359677204215015,\n",
       " 'NH,MV': 0.0028123994695917545,\n",
       " 'NH,CL': 0.0027667929917064827,\n",
       " 'NH,SV': 0.0025691649208703054,\n",
       " 'NH,PG': 0.0009881403541808866,\n",
       " 'NH,CS': 0.0008817252391152528,\n",
       " 'NH,DR': 0.0005168734160330792,\n",
       " 'NH,AA': 0.0005168734160330792,\n",
       " 'NH,DK': 0.0005016712567379887,\n",
       " 'NH,NH': 0.00047126693814780746,\n",
       " 'NH,KR': 0.00047126693814780746,\n",
       " 'NH,SP': 0.00041045830096744524,\n",
       " 'NH,LN': 0.00038005398237726416,\n",
       " 'NH,LS': 0.0002888410266067207,\n",
       " 'NH,KM': 0.00027363886731163016,\n",
       " 'NH,RG': 0.00012161727436072451,\n",
       " 'NH,AG': 4.560647788527169e-05,\n",
       " 'NH,RK': 1.5202159295090564e-05,\n",
       " 'NH,GR': 0.0,\n",
       " 'KR,LH': 0.0043174132398057195,\n",
       " 'KR,VB': 0.003359677204215015,\n",
       " 'KR,MV': 0.0028123994695917545,\n",
       " 'KR,CL': 0.0027667929917064827,\n",
       " 'KR,SV': 0.0025691649208703054,\n",
       " 'KR,PG': 0.0009881403541808866,\n",
       " 'KR,CS': 0.0008817252391152528,\n",
       " 'KR,DR': 0.0005168734160330792,\n",
       " 'KR,AA': 0.0005168734160330792,\n",
       " 'KR,DK': 0.0005016712567379887,\n",
       " 'KR,NH': 0.00047126693814780746,\n",
       " 'KR,KR': 0.00047126693814780746,\n",
       " 'KR,SP': 0.00041045830096744524,\n",
       " 'KR,LN': 0.00038005398237726416,\n",
       " 'KR,LS': 0.0002888410266067207,\n",
       " 'KR,KM': 0.00027363886731163016,\n",
       " 'KR,RG': 0.00012161727436072451,\n",
       " 'KR,AG': 4.560647788527169e-05,\n",
       " 'KR,RK': 1.5202159295090564e-05,\n",
       " 'KR,GR': 0.0,\n",
       " 'SP,LH': 0.0037603276604759495,\n",
       " 'SP,VB': 0.0029261704681872707,\n",
       " 'SP,MV': 0.0024495092154508827,\n",
       " 'SP,CL': 0.002409787444389517,\n",
       " 'SP,SV': 0.0022376597697902657,\n",
       " 'SP,PG': 0.000860638372996256,\n",
       " 'SP,CS': 0.0007679542405197363,\n",
       " 'SP,DR': 0.00045018007202881087,\n",
       " 'SP,AA': 0.00045018007202881087,\n",
       " 'SP,DK': 0.00043693948167502236,\n",
       " 'SP,NH': 0.00041045830096744524,\n",
       " 'SP,KR': 0.00041045830096744524,\n",
       " 'SP,SP': 0.000357495939552291,\n",
       " 'SP,LN': 0.0003310147588447139,\n",
       " 'SP,LS': 0.00025157121672198256,\n",
       " 'SP,KM': 0.000238330626368194,\n",
       " 'SP,RG': 0.00010592472283030845,\n",
       " 'SP,AG': 3.9721771061365664e-05,\n",
       " 'SP,RK': 1.3240590353788556e-05,\n",
       " 'SP,GR': 0.0,\n",
       " 'LN,LH': 0.0034817848708110647,\n",
       " 'LN,VB': 0.0027094171001733995,\n",
       " 'LN,MV': 0.0022680640883804472,\n",
       " 'LN,CL': 0.0022312846707310346,\n",
       " 'LN,SV': 0.0020719071942502465,\n",
       " 'LN,PG': 0.0007968873824039409,\n",
       " 'LN,CS': 0.000711068741221978,\n",
       " 'LN,DR': 0.0004168334000266768,\n",
       " 'LN,AA': 0.0004168334000266768,\n",
       " 'LN,DK': 0.00040457359414353925,\n",
       " 'LN,NH': 0.00038005398237726416,\n",
       " 'LN,KR': 0.00038005398237726416,\n",
       " 'LN,SP': 0.0003310147588447139,\n",
       " 'LN,LN': 0.0003064951470784388,\n",
       " 'LN,LS': 0.00023293631177961351,\n",
       " 'LN,KM': 0.00022067650589647594,\n",
       " 'LN,RG': 9.807844706510041e-05,\n",
       " 'LN,AG': 3.6779417649412655e-05,\n",
       " 'LN,RK': 1.2259805883137552e-05,\n",
       " 'LN,GR': 0.0,\n",
       " 'LS,LH': 0.002646156501816409,\n",
       " 'LS,VB': 0.0020591569961317833,\n",
       " 'LS,MV': 0.00172372870716914,\n",
       " 'LS,CL': 0.0016957763497555862,\n",
       " 'LS,SV': 0.001574649467630187,\n",
       " 'LS,PG': 0.000605634410626995,\n",
       " 'LS,CS': 0.0005404122433287033,\n",
       " 'LS,DR': 0.0003167933840202743,\n",
       " 'LS,AA': 0.0003167933840202743,\n",
       " 'LS,DK': 0.0003074759315490898,\n",
       " 'LS,NH': 0.0002888410266067207,\n",
       " 'LS,KR': 0.0002888410266067207,\n",
       " 'LS,SP': 0.00025157121672198256,\n",
       " 'LS,LN': 0.00023293631177961351,\n",
       " 'LS,LS': 0.00017703159695250625,\n",
       " 'LS,KM': 0.00016771414448132172,\n",
       " 'LS,RG': 7.453961976947633e-05,\n",
       " 'LS,AG': 2.7952357413553617e-05,\n",
       " 'LS,RK': 9.31745247118454e-06,\n",
       " 'LS,GR': 0.0,\n",
       " 'KM,LH': 0.0025068851069839663,\n",
       " 'KM,VB': 0.0019507803121248475,\n",
       " 'KM,MV': 0.0016330061436339222,\n",
       " 'KM,CL': 0.0016065249629263448,\n",
       " 'KM,SV': 0.0014917731798601774,\n",
       " 'KM,PG': 0.0005737589153308374,\n",
       " 'KM,CS': 0.0005119694936798243,\n",
       " 'KM,DR': 0.0003001200480192073,\n",
       " 'KM,AA': 0.0003001200480192073,\n",
       " 'KM,DK': 0.0002912929877833483,\n",
       " 'KM,NH': 0.00027363886731163016,\n",
       " 'KM,KR': 0.00027363886731163016,\n",
       " 'KM,SP': 0.000238330626368194,\n",
       " 'KM,LN': 0.00022067650589647594,\n",
       " 'KM,LS': 0.00016771414448132172,\n",
       " 'KM,KM': 0.00015888708424546268,\n",
       " 'KM,RG': 7.06164818868723e-05,\n",
       " 'KM,AG': 2.6481180707577113e-05,\n",
       " 'KM,RK': 8.827060235859038e-06,\n",
       " 'KM,GR': 0.0,\n",
       " 'RG,LH': 0.0011141711586595408,\n",
       " 'RG,VB': 0.0008670134720554877,\n",
       " 'RG,MV': 0.0007257805082817432,\n",
       " 'RG,CL': 0.000714011094633931,\n",
       " 'RG,SV': 0.0006630103021600789,\n",
       " 'RG,PG': 0.0002550039623692611,\n",
       " 'RG,CS': 0.00022754199719103298,\n",
       " 'RG,DR': 0.00013338668800853655,\n",
       " 'RG,AA': 0.00013338668800853655,\n",
       " 'RG,DK': 0.00012946355012593256,\n",
       " 'RG,NH': 0.00012161727436072451,\n",
       " 'RG,KR': 0.00012161727436072451,\n",
       " 'RG,SP': 0.00010592472283030845,\n",
       " 'RG,LN': 9.807844706510041e-05,\n",
       " 'RG,LS': 7.453961976947633e-05,\n",
       " 'RG,KM': 7.06164818868723e-05,\n",
       " 'RG,RG': 3.138510306083214e-05,\n",
       " 'RG,AG': 1.176941364781205e-05,\n",
       " 'RG,RK': 3.923137882604017e-06,\n",
       " 'RG,GR': 0.0,\n",
       " 'AG,LH': 0.00041781418449732776,\n",
       " 'AG,VB': 0.0003251300520208079,\n",
       " 'AG,MV': 0.00027216769060565364,\n",
       " 'AG,CL': 0.0002677541604877241,\n",
       " 'AG,SV': 0.00024862886331002956,\n",
       " 'AG,PG': 9.562648588847291e-05,\n",
       " 'AG,CS': 8.532824894663737e-05,\n",
       " 'AG,DR': 5.002000800320121e-05,\n",
       " 'AG,AA': 5.002000800320121e-05,\n",
       " 'AG,DK': 4.8548831297224705e-05,\n",
       " 'AG,NH': 4.560647788527169e-05,\n",
       " 'AG,KR': 4.560647788527169e-05,\n",
       " 'AG,SP': 3.9721771061365664e-05,\n",
       " 'AG,LN': 3.6779417649412655e-05,\n",
       " 'AG,LS': 2.7952357413553617e-05,\n",
       " 'AG,KM': 2.6481180707577113e-05,\n",
       " 'AG,RG': 1.176941364781205e-05,\n",
       " 'AG,AG': 4.413530117929519e-06,\n",
       " 'AG,RK': 1.4711767059765063e-06,\n",
       " 'AG,GR': 0.0,\n",
       " 'RK,LH': 0.0001392713948324426,\n",
       " 'RK,VB': 0.00010837668400693596,\n",
       " 'RK,MV': 9.07225635352179e-05,\n",
       " 'RK,CL': 8.925138682924137e-05,\n",
       " 'RK,SV': 8.287628777000986e-05,\n",
       " 'RK,PG': 3.187549529615764e-05,\n",
       " 'RK,CS': 2.8442749648879122e-05,\n",
       " 'RK,DR': 1.667333600106707e-05,\n",
       " 'RK,AA': 1.667333600106707e-05,\n",
       " 'RK,DK': 1.618294376574157e-05,\n",
       " 'RK,NH': 1.5202159295090564e-05,\n",
       " 'RK,KR': 1.5202159295090564e-05,\n",
       " 'RK,SP': 1.3240590353788556e-05,\n",
       " 'RK,LN': 1.2259805883137552e-05,\n",
       " 'RK,LS': 9.31745247118454e-06,\n",
       " 'RK,KM': 8.827060235859038e-06,\n",
       " 'RK,RG': 3.923137882604017e-06,\n",
       " 'RK,AG': 1.4711767059765063e-06,\n",
       " 'RK,RK': 4.903922353255022e-07,\n",
       " 'RK,GR': 0.0,\n",
       " 'GR,LH': 0.0,\n",
       " 'GR,VB': 0.0,\n",
       " 'GR,MV': 0.0,\n",
       " 'GR,CL': 0.0,\n",
       " 'GR,SV': 0.0,\n",
       " 'GR,PG': 0.0,\n",
       " 'GR,CS': 0.0,\n",
       " 'GR,DR': 0.0,\n",
       " 'GR,AA': 0.0,\n",
       " 'GR,DK': 0.0,\n",
       " 'GR,NH': 0.0,\n",
       " 'GR,KR': 0.0,\n",
       " 'GR,SP': 0.0,\n",
       " 'GR,LN': 0.0,\n",
       " 'GR,LS': 0.0,\n",
       " 'GR,KM': 0.0,\n",
       " 'GR,RG': 0.0,\n",
       " 'GR,AG': 0.0,\n",
       " 'GR,RK': 0.0,\n",
       " 'GR,GR': 0.0}"
      ]
     },
     "execution_count": 5,
     "metadata": {},
     "output_type": "execute_result"
    }
   ],
   "source": [
    "Both_races = joint(SGP,',')\n",
    "Both_races"
   ]
  },
  {
   "cell_type": "markdown",
   "metadata": {},
   "source": [
    "Probability for Mercedes to win both races"
   ]
  },
  {
   "cell_type": "code",
   "execution_count": 6,
   "metadata": {},
   "outputs": [
    {
     "data": {
      "text/plain": [
       "0.12506227981388618"
      ]
     },
     "execution_count": 6,
     "metadata": {},
     "output_type": "execute_result"
    }
   ],
   "source": [
    "def mercedes_wins_both_races(outcome) : return 'LH,VB' in outcome or 'VB,LH' in outcome or 'LH,LH' in outcome or 'VB,VB' in outcome\n",
    "p(mercedes_wins_both_races,Both_races)\n"
   ]
  },
  {
   "cell_type": "markdown",
   "metadata": {},
   "source": [
    "Probability for Mercedes to win at least one race"
   ]
  },
  {
   "cell_type": "code",
   "execution_count": 7,
   "metadata": {},
   "outputs": [
    {
     "data": {
      "text/plain": [
       "0.5822206333513795"
      ]
     },
     "execution_count": 7,
     "metadata": {},
     "output_type": "execute_result"
    }
   ],
   "source": [
    "def mercedes_wins_atleast_one_race(outcome) : return 'LH' in outcome or 'VB' in outcome \n",
    "p(mercedes_wins_atleast_one_race,Both_races)"
   ]
  },
  {
   "cell_type": "markdown",
   "metadata": {},
   "source": [
    "# Question 1.2"
   ]
  },
  {
   "cell_type": "markdown",
   "metadata": {},
   "source": [
    "If Mercedes wins the first race, what is the probability that Mercedes wins the next one? If Mercedes wins at least one of these two races, what is the probability Mercedes wins both races? How about Ferrari, Red Bull, and Renault?"
   ]
  },
  {
   "cell_type": "markdown",
   "metadata": {},
   "source": [
    "# Answer\n",
    "To find out the probability of Mercedes winning the second race given that it will win the first;we will create a few useful predicates. \n",
    "Since Mercedes winning the race means that either Louis Hamilton(LH) or Valtteri Bottas(VB) have finish first. \n",
    "So the predicate 'merecedes_wins_first_race' will give us the possibilities where the first race is finished by either of them. Similarly the predicate 'merecedes_wins_second_race' will give us the possibilities of the either of the Mercedes drivers finishing first in the second race."
   ]
  },
  {
   "cell_type": "code",
   "execution_count": 8,
   "metadata": {},
   "outputs": [],
   "source": [
    "def mercedes_wins_first_race(outcome) : return outcome.startswith('LH') or outcome.startswith('VB')\n",
    "def mercedes_wins_second_race(outcome) : return ',LH' in outcome or ',VB' in outcome"
   ]
  },
  {
   "cell_type": "markdown",
   "metadata": {},
   "source": [
    "Now to find the probabilities. "
   ]
  },
  {
   "cell_type": "code",
   "execution_count": 9,
   "metadata": {},
   "outputs": [
    {
     "data": {
      "text/plain": [
       "0.35364145658263274"
      ]
     },
     "execution_count": 9,
     "metadata": {},
     "output_type": "execute_result"
    }
   ],
   "source": [
    "p(mercedes_wins_first_race,Both_races)"
   ]
  },
  {
   "cell_type": "code",
   "execution_count": 10,
   "metadata": {},
   "outputs": [
    {
     "data": {
      "text/plain": [
       "0.35364145658263274"
      ]
     },
     "execution_count": 10,
     "metadata": {},
     "output_type": "execute_result"
    }
   ],
   "source": [
    "p(mercedes_wins_second_race,Both_races)"
   ]
  },
  {
   "cell_type": "markdown",
   "metadata": {},
   "source": [
    "Now we will find the probability of Mercedes winning the second race given that they won the first race. We use the predicate 'mercedes_wins_second_race'in the event space of mercedes having won the first race given by :'such_that(mercedes_wins_first_race,Both_races)'."
   ]
  },
  {
   "cell_type": "code",
   "execution_count": 11,
   "metadata": {},
   "outputs": [
    {
     "data": {
      "text/plain": [
       "0.3536414565826329"
      ]
     },
     "execution_count": 11,
     "metadata": {},
     "output_type": "execute_result"
    }
   ],
   "source": [
    "p(mercedes_wins_second_race,such_that(mercedes_wins_first_race,Both_races))"
   ]
  },
  {
   "cell_type": "markdown",
   "metadata": {},
   "source": [
    "Similarly we find the probability of mercedes winning both races given that event mercedes has won atleast one race. We use the predicates we created in the previous part of the question in a similar way."
   ]
  },
  {
   "cell_type": "code",
   "execution_count": 12,
   "metadata": {},
   "outputs": [
    {
     "data": {
      "text/plain": [
       "0.2148022118247552"
      ]
     },
     "execution_count": 12,
     "metadata": {},
     "output_type": "execute_result"
    }
   ],
   "source": [
    "p(mercedes_wins_both_races,such_that(mercedes_wins_atleast_one_race,Both_races))"
   ]
  },
  {
   "cell_type": "markdown",
   "metadata": {},
   "source": [
    "# Ferrari"
   ]
  },
  {
   "cell_type": "markdown",
   "metadata": {},
   "source": [
    "The predicates required for finding out all probabilities asked. For Ferrari to win both the races either Sebastian Vettel(SV) or Charles Leclerc(CL) have to finish first. "
   ]
  },
  {
   "cell_type": "code",
   "execution_count": 13,
   "metadata": {},
   "outputs": [],
   "source": [
    "def ferrari_wins_first_race(outcome) : return outcome.startswith('CL') or outcome.startswith('SV')\n",
    "def ferrari_wins_second_race(outcome) : return ',CL' in outcome or ',SV' in outcome\n",
    "def ferrari_wins_both_races(outcome) : return 'CL,SV' in outcome or 'SV,CL' in outcome or 'SV,SV' in outcome or 'CL,CL' in outcome\n",
    "def ferrari_wins_atleast_one_race(outcome) : return 'CL' in outcome or 'SV' in outcome "
   ]
  },
  {
   "cell_type": "markdown",
   "metadata": {},
   "source": [
    "Probability of ferrari winning both the races"
   ]
  },
  {
   "cell_type": "code",
   "execution_count": 14,
   "metadata": {},
   "outputs": [
    {
     "data": {
      "text/plain": [
       "0.06041681378433717"
      ]
     },
     "execution_count": 14,
     "metadata": {},
     "output_type": "execute_result"
    }
   ],
   "source": [
    "p(ferrari_wins_both_races,Both_races)"
   ]
  },
  {
   "cell_type": "markdown",
   "metadata": {},
   "source": [
    "Probability of Ferrari winnin at least one of the two races"
   ]
  },
  {
   "cell_type": "code",
   "execution_count": 15,
   "metadata": {},
   "outputs": [
    {
     "data": {
      "text/plain": [
       "0.43117982487112416"
      ]
     },
     "execution_count": 15,
     "metadata": {},
     "output_type": "execute_result"
    }
   ],
   "source": [
    "p(ferrari_wins_atleast_one_race,Both_races)"
   ]
  },
  {
   "cell_type": "markdown",
   "metadata": {},
   "source": [
    "Probability of Ferrari winning the first race"
   ]
  },
  {
   "cell_type": "code",
   "execution_count": 16,
   "metadata": {},
   "outputs": [
    {
     "data": {
      "text/plain": [
       "0.24579831932773075"
      ]
     },
     "execution_count": 16,
     "metadata": {},
     "output_type": "execute_result"
    }
   ],
   "source": [
    "p(ferrari_wins_first_race,Both_races)"
   ]
  },
  {
   "cell_type": "markdown",
   "metadata": {},
   "source": [
    "Probability of Ferrari winning the Second race"
   ]
  },
  {
   "cell_type": "code",
   "execution_count": 17,
   "metadata": {},
   "outputs": [
    {
     "data": {
      "text/plain": [
       "0.24579831932773075"
      ]
     },
     "execution_count": 17,
     "metadata": {},
     "output_type": "execute_result"
    }
   ],
   "source": [
    "p(ferrari_wins_second_race,Both_races)"
   ]
  },
  {
   "cell_type": "markdown",
   "metadata": {},
   "source": [
    "Probability of Ferrari winning the second race given the event that they won the first race. "
   ]
  },
  {
   "cell_type": "code",
   "execution_count": 18,
   "metadata": {},
   "outputs": [
    {
     "data": {
      "text/plain": [
       "0.24579831932773108"
      ]
     },
     "execution_count": 18,
     "metadata": {},
     "output_type": "execute_result"
    }
   ],
   "source": [
    "p(ferrari_wins_second_race,such_that(ferrari_wins_first_race,Both_races))"
   ]
  },
  {
   "cell_type": "markdown",
   "metadata": {},
   "source": [
    "Probability of Ferrari winning both the races given the event thst they win at least one race. "
   ]
  },
  {
   "cell_type": "code",
   "execution_count": 19,
   "metadata": {},
   "outputs": [
    {
     "data": {
      "text/plain": [
       "0.14011976047904195"
      ]
     },
     "execution_count": 19,
     "metadata": {},
     "output_type": "execute_result"
    }
   ],
   "source": [
    "p(ferrari_wins_both_races,such_that(ferrari_wins_atleast_one_race,Both_races))"
   ]
  },
  {
   "cell_type": "markdown",
   "metadata": {},
   "source": [
    "# RedBull\n",
    "All the required predicates for the questions asked have been generated below. For RedBull to win either Max Verstappen(MV) or Alexander Albon(AA) have to finish first. "
   ]
  },
  {
   "cell_type": "code",
   "execution_count": 20,
   "metadata": {},
   "outputs": [],
   "source": [
    "def RedBull_wins_first_race(outcome) : return outcome.startswith('MV') or outcome.startswith('AA')\n",
    "def RedBull_wins_second_race(outcome) : return ',MV' in outcome or ',AA' in outcome\n",
    "def RedBull_wins_both_races(outcome) : return 'MV,AA' in outcome or 'AA,MV' in outcome or 'MV,MV' in outcome or 'AA,AA' in outcome\n",
    "def RedBull_wins_atleast_one_race(outcome) : return 'MV' in outcome or 'AA' in outcome "
   ]
  },
  {
   "cell_type": "markdown",
   "metadata": {},
   "source": [
    "Probability that RedBull wins both the races"
   ]
  },
  {
   "cell_type": "code",
   "execution_count": 21,
   "metadata": {},
   "outputs": [
    {
     "data": {
      "text/plain": [
       "0.02351970199844641"
      ]
     },
     "execution_count": 21,
     "metadata": {},
     "output_type": "execute_result"
    }
   ],
   "source": [
    "p(RedBull_wins_both_races,Both_races)"
   ]
  },
  {
   "cell_type": "markdown",
   "metadata": {},
   "source": [
    "Probability that RedBull wins at least one reace"
   ]
  },
  {
   "cell_type": "code",
   "execution_count": 22,
   "metadata": {},
   "outputs": [
    {
     "data": {
      "text/plain": [
       "0.2832029870771836"
      ]
     },
     "execution_count": 22,
     "metadata": {},
     "output_type": "execute_result"
    }
   ],
   "source": [
    "p(RedBull_wins_atleast_one_race,Both_races)"
   ]
  },
  {
   "cell_type": "raw",
   "metadata": {},
   "source": [
    "Probability that RedBull wins the first race"
   ]
  },
  {
   "cell_type": "code",
   "execution_count": 23,
   "metadata": {},
   "outputs": [
    {
     "data": {
      "text/plain": [
       "0.1533613445378149"
      ]
     },
     "execution_count": 23,
     "metadata": {},
     "output_type": "execute_result"
    }
   ],
   "source": [
    "p(RedBull_wins_first_race,Both_races)"
   ]
  },
  {
   "cell_type": "markdown",
   "metadata": {},
   "source": [
    "Probability that RedBull wins the second race"
   ]
  },
  {
   "cell_type": "code",
   "execution_count": 24,
   "metadata": {},
   "outputs": [
    {
     "data": {
      "text/plain": [
       "0.15336134453781491"
      ]
     },
     "execution_count": 24,
     "metadata": {},
     "output_type": "execute_result"
    }
   ],
   "source": [
    "p(RedBull_wins_second_race,Both_races)"
   ]
  },
  {
   "cell_type": "markdown",
   "metadata": {},
   "source": [
    "Probability that RedBull wins the second race given the event they have won the first race."
   ]
  },
  {
   "cell_type": "code",
   "execution_count": 25,
   "metadata": {},
   "outputs": [
    {
     "data": {
      "text/plain": [
       "0.1533613445378152"
      ]
     },
     "execution_count": 25,
     "metadata": {},
     "output_type": "execute_result"
    }
   ],
   "source": [
    "p(RedBull_wins_second_race,such_that(RedBull_wins_first_race,Both_races))"
   ]
  },
  {
   "cell_type": "markdown",
   "metadata": {},
   "source": [
    "Probability that RedBull wins both races given the event "
   ]
  },
  {
   "cell_type": "code",
   "execution_count": 26,
   "metadata": {},
   "outputs": [
    {
     "data": {
      "text/plain": [
       "0.0830489192263936"
      ]
     },
     "execution_count": 26,
     "metadata": {},
     "output_type": "execute_result"
    }
   ],
   "source": [
    "p(RedBull_wins_both_races,such_that(RedBull_wins_atleast_one_race,Both_races))"
   ]
  },
  {
   "cell_type": "markdown",
   "metadata": {},
   "source": [
    "# Renault\n",
    "The predicates required for the questions asked have been defined below. For renault to win the race either Daniel Ricciardo(DR) or Nico Hulkenberg(NH) have to finish first."
   ]
  },
  {
   "cell_type": "code",
   "execution_count": 27,
   "metadata": {},
   "outputs": [],
   "source": [
    "def Renault_wins_first_race(outcome) : return outcome.startswith('DR') or outcome.startswith('NH')\n",
    "def Renault_wins_second_race(outcome) : return ',DR' in outcome or ',NH' in outcome\n",
    "def Renault_wins_both_races(outcome) : return 'DR,NH' in outcome or 'NH,DR' in outcome or 'DR,DR' in outcome or 'NH,NH' in outcome\n",
    "def Renault_wins_atleast_one_race(outcome) : return 'DR' in outcome or 'NH' in outcome "
   ]
  },
  {
   "cell_type": "markdown",
   "metadata": {},
   "source": [
    "Probability that Renault wins both races."
   ]
  },
  {
   "cell_type": "code",
   "execution_count": 28,
   "metadata": {},
   "outputs": [
    {
     "data": {
      "text/plain": [
       "0.002071907194250246"
      ]
     },
     "execution_count": 28,
     "metadata": {},
     "output_type": "execute_result"
    }
   ],
   "source": [
    "p(Renault_wins_both_races,Both_races)"
   ]
  },
  {
   "cell_type": "markdown",
   "metadata": {},
   "source": [
    "Probability that Renault wins at least one race"
   ]
  },
  {
   "cell_type": "code",
   "execution_count": 29,
   "metadata": {},
   "outputs": [
    {
     "data": {
      "text/plain": [
       "0.08896450737157598"
      ]
     },
     "execution_count": 29,
     "metadata": {},
     "output_type": "execute_result"
    }
   ],
   "source": [
    "p(Renault_wins_atleast_one_race,Both_races)"
   ]
  },
  {
   "cell_type": "markdown",
   "metadata": {},
   "source": [
    "Probability that Renault wins first race"
   ]
  },
  {
   "cell_type": "code",
   "execution_count": 30,
   "metadata": {},
   "outputs": [
    {
     "data": {
      "text/plain": [
       "0.0455182072829131"
      ]
     },
     "execution_count": 30,
     "metadata": {},
     "output_type": "execute_result"
    }
   ],
   "source": [
    "p(Renault_wins_first_race,Both_races)"
   ]
  },
  {
   "cell_type": "markdown",
   "metadata": {},
   "source": [
    "Probability that Renault wins the second race"
   ]
  },
  {
   "cell_type": "code",
   "execution_count": 31,
   "metadata": {},
   "outputs": [
    {
     "data": {
      "text/plain": [
       "0.045518207282913094"
      ]
     },
     "execution_count": 31,
     "metadata": {},
     "output_type": "execute_result"
    }
   ],
   "source": [
    "p(Renault_wins_second_race,Both_races)"
   ]
  },
  {
   "cell_type": "markdown",
   "metadata": {},
   "source": [
    "Probability that Renault wins second race given that event that they won the first race"
   ]
  },
  {
   "cell_type": "code",
   "execution_count": 32,
   "metadata": {},
   "outputs": [
    {
     "data": {
      "text/plain": [
       "0.04551820728291316"
      ]
     },
     "execution_count": 32,
     "metadata": {},
     "output_type": "execute_result"
    }
   ],
   "source": [
    "p(Renault_wins_second_race,such_that(Renault_wins_first_race,Both_races))"
   ]
  },
  {
   "cell_type": "markdown",
   "metadata": {},
   "source": [
    "Probability that Renault wins both races given the event that they win at least one of the two races"
   ]
  },
  {
   "cell_type": "code",
   "execution_count": 33,
   "metadata": {},
   "outputs": [
    {
     "data": {
      "text/plain": [
       "0.02328914367610175"
      ]
     },
     "execution_count": 33,
     "metadata": {},
     "output_type": "execute_result"
    }
   ],
   "source": [
    "p(Renault_wins_both_races,such_that(Renault_wins_atleast_one_race,Both_races))"
   ]
  },
  {
   "cell_type": "markdown",
   "metadata": {},
   "source": [
    "# Question 1.3\n",
    "Mercedes wins one of these two races on a rainy day. What is the probability Mercedes wins both races, assuming races can be held on either rainy, sunny, cloudy, snowy or foggy days? Assume that rain, sun, clouds, snow, and fog are the only possible weather conditions on race tracks."
   ]
  },
  {
   "cell_type": "code",
   "execution_count": 34,
   "metadata": {},
   "outputs": [],
   "source": [
    "def joint_separate(A, B, sep=''):\n",
    "    \"\"\"The joint distribution of two independent probability distributions. \n",
    "    Result is all entries of the form {a+sep+b: P(a)*P(b)}\"\"\"\n",
    "    return ProbDist({a + sep + b: A[a] * B[b]\n",
    "                    for a in A\n",
    "                    for b in B})"
   ]
  },
  {
   "cell_type": "markdown",
   "metadata": {},
   "source": [
    "Creating a probability distribution for the five weather possibilities given. All the five weather types are equiprobable. \n",
    "r = rainy\n",
    "s = sunny\n",
    "c = cloudy\n",
    "n = snowy\n",
    "f = foggyu"
   ]
  },
  {
   "cell_type": "code",
   "execution_count": 35,
   "metadata": {},
   "outputs": [
    {
     "data": {
      "text/plain": [
       "{'LHr,LHr': 0.0015821230452965208,\n",
       " 'LHr,LHs': 0.0015821230452965208,\n",
       " 'LHr,LHc': 0.0015821230452965208,\n",
       " 'LHr,LHn': 0.0015821230452965208,\n",
       " 'LHr,LHf': 0.0015821230452965208,\n",
       " 'LHr,VBr': 0.0012311591303187715,\n",
       " 'LHr,VBs': 0.0012311591303187715,\n",
       " 'LHr,VBc': 0.0012311591303187715,\n",
       " 'LHr,VBn': 0.0012311591303187715,\n",
       " 'LHr,VBf': 0.0012311591303187715,\n",
       " 'LHr,MVr': 0.0010306083217600577,\n",
       " 'LHr,MVs': 0.0010306083217600577,\n",
       " 'LHr,MVc': 0.0010306083217600577,\n",
       " 'LHr,MVn': 0.0010306083217600577,\n",
       " 'LHr,MVf': 0.0010306083217600577,\n",
       " 'LHr,CLr': 0.0010138957543801648,\n",
       " 'LHr,CLs': 0.0010138957543801648,\n",
       " 'LHr,CLc': 0.0010138957543801648,\n",
       " 'LHr,CLn': 0.0010138957543801648,\n",
       " 'LHr,CLf': 0.0010138957543801648,\n",
       " 'LHr,SVr': 0.0009414746290672958,\n",
       " 'LHr,SVs': 0.0009414746290672958,\n",
       " 'LHr,SVc': 0.0009414746290672958,\n",
       " 'LHr,SVn': 0.0009414746290672958,\n",
       " 'LHr,SVf': 0.0009414746290672958,\n",
       " 'LHr,PGr': 0.00036210562656434456,\n",
       " 'LHr,PGs': 0.00036210562656434456,\n",
       " 'LHr,PGc': 0.00036210562656434456,\n",
       " 'LHr,PGn': 0.00036210562656434456,\n",
       " 'LHr,PGf': 0.00036210562656434456,\n",
       " 'LHr,CSr': 0.0003231096360112613,\n",
       " 'LHr,CSs': 0.0003231096360112613,\n",
       " 'LHr,CSc': 0.0003231096360112613,\n",
       " 'LHr,CSn': 0.0003231096360112613,\n",
       " 'LHr,CSf': 0.0003231096360112613,\n",
       " 'LHr,DRr': 0.0001894090969721187,\n",
       " 'LHr,DRs': 0.0001894090969721187,\n",
       " 'LHr,DRc': 0.0001894090969721187,\n",
       " 'LHr,DRn': 0.0001894090969721187,\n",
       " 'LHr,DRf': 0.0001894090969721187,\n",
       " 'LHr,AAr': 0.0001894090969721187,\n",
       " 'LHr,AAs': 0.0001894090969721187,\n",
       " 'LHr,AAc': 0.0001894090969721187,\n",
       " 'LHr,AAn': 0.0001894090969721187,\n",
       " 'LHr,AAf': 0.0001894090969721187,\n",
       " 'LHr,DKr': 0.0001838382411788211,\n",
       " 'LHr,DKs': 0.0001838382411788211,\n",
       " 'LHr,DKc': 0.0001838382411788211,\n",
       " 'LHr,DKn': 0.0001838382411788211,\n",
       " 'LHr,DKf': 0.0001838382411788211,\n",
       " 'LHr,NHr': 0.00017269652959222586,\n",
       " 'LHr,NHs': 0.00017269652959222586,\n",
       " 'LHr,NHc': 0.00017269652959222586,\n",
       " 'LHr,NHn': 0.00017269652959222586,\n",
       " 'LHr,NHf': 0.00017269652959222586,\n",
       " 'LHr,KRr': 0.00017269652959222586,\n",
       " 'LHr,KRs': 0.00017269652959222586,\n",
       " 'LHr,KRc': 0.00017269652959222586,\n",
       " 'LHr,KRn': 0.00017269652959222586,\n",
       " 'LHr,KRf': 0.00017269652959222586,\n",
       " 'LHr,SPr': 0.00015041310641903543,\n",
       " 'LHr,SPs': 0.00015041310641903543,\n",
       " 'LHr,SPc': 0.00015041310641903543,\n",
       " 'LHr,SPn': 0.00015041310641903543,\n",
       " 'LHr,SPf': 0.00015041310641903543,\n",
       " 'LHr,LNr': 0.0001392713948324402,\n",
       " 'LHr,LNs': 0.0001392713948324402,\n",
       " 'LHr,LNc': 0.0001392713948324402,\n",
       " 'LHr,LNn': 0.0001392713948324402,\n",
       " 'LHr,LNf': 0.0001392713948324402,\n",
       " 'LHr,LSr': 0.00010584626007265456,\n",
       " 'LHr,LSs': 0.00010584626007265456,\n",
       " 'LHr,LSc': 0.00010584626007265456,\n",
       " 'LHr,LSn': 0.00010584626007265456,\n",
       " 'LHr,LSf': 0.00010584626007265456,\n",
       " 'LHr,KMr': 0.00010027540427935696,\n",
       " 'LHr,KMs': 0.00010027540427935696,\n",
       " 'LHr,KMc': 0.00010027540427935696,\n",
       " 'LHr,KMn': 0.00010027540427935696,\n",
       " 'LHr,KMf': 0.00010027540427935696,\n",
       " 'LHr,RGr': 4.456684634638087e-05,\n",
       " 'LHr,RGs': 4.456684634638087e-05,\n",
       " 'LHr,RGc': 4.456684634638087e-05,\n",
       " 'LHr,RGn': 4.456684634638087e-05,\n",
       " 'LHr,RGf': 4.456684634638087e-05,\n",
       " 'LHr,AGr': 1.6712567379892826e-05,\n",
       " 'LHr,AGs': 1.6712567379892826e-05,\n",
       " 'LHr,AGc': 1.6712567379892826e-05,\n",
       " 'LHr,AGn': 1.6712567379892826e-05,\n",
       " 'LHr,AGf': 1.6712567379892826e-05,\n",
       " 'LHr,RKr': 5.570855793297609e-06,\n",
       " 'LHr,RKs': 5.570855793297609e-06,\n",
       " 'LHr,RKc': 5.570855793297609e-06,\n",
       " 'LHr,RKn': 5.570855793297609e-06,\n",
       " 'LHr,RKf': 5.570855793297609e-06,\n",
       " 'LHr,GRr': 0.0,\n",
       " 'LHr,GRs': 0.0,\n",
       " 'LHr,GRc': 0.0,\n",
       " 'LHr,GRn': 0.0,\n",
       " 'LHr,GRf': 0.0,\n",
       " 'LHs,LHr': 0.0015821230452965208,\n",
       " 'LHs,LHs': 0.0015821230452965208,\n",
       " 'LHs,LHc': 0.0015821230452965208,\n",
       " 'LHs,LHn': 0.0015821230452965208,\n",
       " 'LHs,LHf': 0.0015821230452965208,\n",
       " 'LHs,VBr': 0.0012311591303187715,\n",
       " 'LHs,VBs': 0.0012311591303187715,\n",
       " 'LHs,VBc': 0.0012311591303187715,\n",
       " 'LHs,VBn': 0.0012311591303187715,\n",
       " 'LHs,VBf': 0.0012311591303187715,\n",
       " 'LHs,MVr': 0.0010306083217600577,\n",
       " 'LHs,MVs': 0.0010306083217600577,\n",
       " 'LHs,MVc': 0.0010306083217600577,\n",
       " 'LHs,MVn': 0.0010306083217600577,\n",
       " 'LHs,MVf': 0.0010306083217600577,\n",
       " 'LHs,CLr': 0.0010138957543801648,\n",
       " 'LHs,CLs': 0.0010138957543801648,\n",
       " 'LHs,CLc': 0.0010138957543801648,\n",
       " 'LHs,CLn': 0.0010138957543801648,\n",
       " 'LHs,CLf': 0.0010138957543801648,\n",
       " 'LHs,SVr': 0.0009414746290672958,\n",
       " 'LHs,SVs': 0.0009414746290672958,\n",
       " 'LHs,SVc': 0.0009414746290672958,\n",
       " 'LHs,SVn': 0.0009414746290672958,\n",
       " 'LHs,SVf': 0.0009414746290672958,\n",
       " 'LHs,PGr': 0.00036210562656434456,\n",
       " 'LHs,PGs': 0.00036210562656434456,\n",
       " 'LHs,PGc': 0.00036210562656434456,\n",
       " 'LHs,PGn': 0.00036210562656434456,\n",
       " 'LHs,PGf': 0.00036210562656434456,\n",
       " 'LHs,CSr': 0.0003231096360112613,\n",
       " 'LHs,CSs': 0.0003231096360112613,\n",
       " 'LHs,CSc': 0.0003231096360112613,\n",
       " 'LHs,CSn': 0.0003231096360112613,\n",
       " 'LHs,CSf': 0.0003231096360112613,\n",
       " 'LHs,DRr': 0.0001894090969721187,\n",
       " 'LHs,DRs': 0.0001894090969721187,\n",
       " 'LHs,DRc': 0.0001894090969721187,\n",
       " 'LHs,DRn': 0.0001894090969721187,\n",
       " 'LHs,DRf': 0.0001894090969721187,\n",
       " 'LHs,AAr': 0.0001894090969721187,\n",
       " 'LHs,AAs': 0.0001894090969721187,\n",
       " 'LHs,AAc': 0.0001894090969721187,\n",
       " 'LHs,AAn': 0.0001894090969721187,\n",
       " 'LHs,AAf': 0.0001894090969721187,\n",
       " 'LHs,DKr': 0.0001838382411788211,\n",
       " 'LHs,DKs': 0.0001838382411788211,\n",
       " 'LHs,DKc': 0.0001838382411788211,\n",
       " 'LHs,DKn': 0.0001838382411788211,\n",
       " 'LHs,DKf': 0.0001838382411788211,\n",
       " 'LHs,NHr': 0.00017269652959222586,\n",
       " 'LHs,NHs': 0.00017269652959222586,\n",
       " 'LHs,NHc': 0.00017269652959222586,\n",
       " 'LHs,NHn': 0.00017269652959222586,\n",
       " 'LHs,NHf': 0.00017269652959222586,\n",
       " 'LHs,KRr': 0.00017269652959222586,\n",
       " 'LHs,KRs': 0.00017269652959222586,\n",
       " 'LHs,KRc': 0.00017269652959222586,\n",
       " 'LHs,KRn': 0.00017269652959222586,\n",
       " 'LHs,KRf': 0.00017269652959222586,\n",
       " 'LHs,SPr': 0.00015041310641903543,\n",
       " 'LHs,SPs': 0.00015041310641903543,\n",
       " 'LHs,SPc': 0.00015041310641903543,\n",
       " 'LHs,SPn': 0.00015041310641903543,\n",
       " 'LHs,SPf': 0.00015041310641903543,\n",
       " 'LHs,LNr': 0.0001392713948324402,\n",
       " 'LHs,LNs': 0.0001392713948324402,\n",
       " 'LHs,LNc': 0.0001392713948324402,\n",
       " 'LHs,LNn': 0.0001392713948324402,\n",
       " 'LHs,LNf': 0.0001392713948324402,\n",
       " 'LHs,LSr': 0.00010584626007265456,\n",
       " 'LHs,LSs': 0.00010584626007265456,\n",
       " 'LHs,LSc': 0.00010584626007265456,\n",
       " 'LHs,LSn': 0.00010584626007265456,\n",
       " 'LHs,LSf': 0.00010584626007265456,\n",
       " 'LHs,KMr': 0.00010027540427935696,\n",
       " 'LHs,KMs': 0.00010027540427935696,\n",
       " 'LHs,KMc': 0.00010027540427935696,\n",
       " 'LHs,KMn': 0.00010027540427935696,\n",
       " 'LHs,KMf': 0.00010027540427935696,\n",
       " 'LHs,RGr': 4.456684634638087e-05,\n",
       " 'LHs,RGs': 4.456684634638087e-05,\n",
       " 'LHs,RGc': 4.456684634638087e-05,\n",
       " 'LHs,RGn': 4.456684634638087e-05,\n",
       " 'LHs,RGf': 4.456684634638087e-05,\n",
       " 'LHs,AGr': 1.6712567379892826e-05,\n",
       " 'LHs,AGs': 1.6712567379892826e-05,\n",
       " 'LHs,AGc': 1.6712567379892826e-05,\n",
       " 'LHs,AGn': 1.6712567379892826e-05,\n",
       " 'LHs,AGf': 1.6712567379892826e-05,\n",
       " 'LHs,RKr': 5.570855793297609e-06,\n",
       " 'LHs,RKs': 5.570855793297609e-06,\n",
       " 'LHs,RKc': 5.570855793297609e-06,\n",
       " 'LHs,RKn': 5.570855793297609e-06,\n",
       " 'LHs,RKf': 5.570855793297609e-06,\n",
       " 'LHs,GRr': 0.0,\n",
       " 'LHs,GRs': 0.0,\n",
       " 'LHs,GRc': 0.0,\n",
       " 'LHs,GRn': 0.0,\n",
       " 'LHs,GRf': 0.0,\n",
       " 'LHc,LHr': 0.0015821230452965208,\n",
       " 'LHc,LHs': 0.0015821230452965208,\n",
       " 'LHc,LHc': 0.0015821230452965208,\n",
       " 'LHc,LHn': 0.0015821230452965208,\n",
       " 'LHc,LHf': 0.0015821230452965208,\n",
       " 'LHc,VBr': 0.0012311591303187715,\n",
       " 'LHc,VBs': 0.0012311591303187715,\n",
       " 'LHc,VBc': 0.0012311591303187715,\n",
       " 'LHc,VBn': 0.0012311591303187715,\n",
       " 'LHc,VBf': 0.0012311591303187715,\n",
       " 'LHc,MVr': 0.0010306083217600577,\n",
       " 'LHc,MVs': 0.0010306083217600577,\n",
       " 'LHc,MVc': 0.0010306083217600577,\n",
       " 'LHc,MVn': 0.0010306083217600577,\n",
       " 'LHc,MVf': 0.0010306083217600577,\n",
       " 'LHc,CLr': 0.0010138957543801648,\n",
       " 'LHc,CLs': 0.0010138957543801648,\n",
       " 'LHc,CLc': 0.0010138957543801648,\n",
       " 'LHc,CLn': 0.0010138957543801648,\n",
       " 'LHc,CLf': 0.0010138957543801648,\n",
       " 'LHc,SVr': 0.0009414746290672958,\n",
       " 'LHc,SVs': 0.0009414746290672958,\n",
       " 'LHc,SVc': 0.0009414746290672958,\n",
       " 'LHc,SVn': 0.0009414746290672958,\n",
       " 'LHc,SVf': 0.0009414746290672958,\n",
       " 'LHc,PGr': 0.00036210562656434456,\n",
       " 'LHc,PGs': 0.00036210562656434456,\n",
       " 'LHc,PGc': 0.00036210562656434456,\n",
       " 'LHc,PGn': 0.00036210562656434456,\n",
       " 'LHc,PGf': 0.00036210562656434456,\n",
       " 'LHc,CSr': 0.0003231096360112613,\n",
       " 'LHc,CSs': 0.0003231096360112613,\n",
       " 'LHc,CSc': 0.0003231096360112613,\n",
       " 'LHc,CSn': 0.0003231096360112613,\n",
       " 'LHc,CSf': 0.0003231096360112613,\n",
       " 'LHc,DRr': 0.0001894090969721187,\n",
       " 'LHc,DRs': 0.0001894090969721187,\n",
       " 'LHc,DRc': 0.0001894090969721187,\n",
       " 'LHc,DRn': 0.0001894090969721187,\n",
       " 'LHc,DRf': 0.0001894090969721187,\n",
       " 'LHc,AAr': 0.0001894090969721187,\n",
       " 'LHc,AAs': 0.0001894090969721187,\n",
       " 'LHc,AAc': 0.0001894090969721187,\n",
       " 'LHc,AAn': 0.0001894090969721187,\n",
       " 'LHc,AAf': 0.0001894090969721187,\n",
       " 'LHc,DKr': 0.0001838382411788211,\n",
       " 'LHc,DKs': 0.0001838382411788211,\n",
       " 'LHc,DKc': 0.0001838382411788211,\n",
       " 'LHc,DKn': 0.0001838382411788211,\n",
       " 'LHc,DKf': 0.0001838382411788211,\n",
       " 'LHc,NHr': 0.00017269652959222586,\n",
       " 'LHc,NHs': 0.00017269652959222586,\n",
       " 'LHc,NHc': 0.00017269652959222586,\n",
       " 'LHc,NHn': 0.00017269652959222586,\n",
       " 'LHc,NHf': 0.00017269652959222586,\n",
       " 'LHc,KRr': 0.00017269652959222586,\n",
       " 'LHc,KRs': 0.00017269652959222586,\n",
       " 'LHc,KRc': 0.00017269652959222586,\n",
       " 'LHc,KRn': 0.00017269652959222586,\n",
       " 'LHc,KRf': 0.00017269652959222586,\n",
       " 'LHc,SPr': 0.00015041310641903543,\n",
       " 'LHc,SPs': 0.00015041310641903543,\n",
       " 'LHc,SPc': 0.00015041310641903543,\n",
       " 'LHc,SPn': 0.00015041310641903543,\n",
       " 'LHc,SPf': 0.00015041310641903543,\n",
       " 'LHc,LNr': 0.0001392713948324402,\n",
       " 'LHc,LNs': 0.0001392713948324402,\n",
       " 'LHc,LNc': 0.0001392713948324402,\n",
       " 'LHc,LNn': 0.0001392713948324402,\n",
       " 'LHc,LNf': 0.0001392713948324402,\n",
       " 'LHc,LSr': 0.00010584626007265456,\n",
       " 'LHc,LSs': 0.00010584626007265456,\n",
       " 'LHc,LSc': 0.00010584626007265456,\n",
       " 'LHc,LSn': 0.00010584626007265456,\n",
       " 'LHc,LSf': 0.00010584626007265456,\n",
       " 'LHc,KMr': 0.00010027540427935696,\n",
       " 'LHc,KMs': 0.00010027540427935696,\n",
       " 'LHc,KMc': 0.00010027540427935696,\n",
       " 'LHc,KMn': 0.00010027540427935696,\n",
       " 'LHc,KMf': 0.00010027540427935696,\n",
       " 'LHc,RGr': 4.456684634638087e-05,\n",
       " 'LHc,RGs': 4.456684634638087e-05,\n",
       " 'LHc,RGc': 4.456684634638087e-05,\n",
       " 'LHc,RGn': 4.456684634638087e-05,\n",
       " 'LHc,RGf': 4.456684634638087e-05,\n",
       " 'LHc,AGr': 1.6712567379892826e-05,\n",
       " 'LHc,AGs': 1.6712567379892826e-05,\n",
       " 'LHc,AGc': 1.6712567379892826e-05,\n",
       " 'LHc,AGn': 1.6712567379892826e-05,\n",
       " 'LHc,AGf': 1.6712567379892826e-05,\n",
       " 'LHc,RKr': 5.570855793297609e-06,\n",
       " 'LHc,RKs': 5.570855793297609e-06,\n",
       " 'LHc,RKc': 5.570855793297609e-06,\n",
       " 'LHc,RKn': 5.570855793297609e-06,\n",
       " 'LHc,RKf': 5.570855793297609e-06,\n",
       " 'LHc,GRr': 0.0,\n",
       " 'LHc,GRs': 0.0,\n",
       " 'LHc,GRc': 0.0,\n",
       " 'LHc,GRn': 0.0,\n",
       " 'LHc,GRf': 0.0,\n",
       " 'LHn,LHr': 0.0015821230452965208,\n",
       " 'LHn,LHs': 0.0015821230452965208,\n",
       " 'LHn,LHc': 0.0015821230452965208,\n",
       " 'LHn,LHn': 0.0015821230452965208,\n",
       " 'LHn,LHf': 0.0015821230452965208,\n",
       " 'LHn,VBr': 0.0012311591303187715,\n",
       " 'LHn,VBs': 0.0012311591303187715,\n",
       " 'LHn,VBc': 0.0012311591303187715,\n",
       " 'LHn,VBn': 0.0012311591303187715,\n",
       " 'LHn,VBf': 0.0012311591303187715,\n",
       " 'LHn,MVr': 0.0010306083217600577,\n",
       " 'LHn,MVs': 0.0010306083217600577,\n",
       " 'LHn,MVc': 0.0010306083217600577,\n",
       " 'LHn,MVn': 0.0010306083217600577,\n",
       " 'LHn,MVf': 0.0010306083217600577,\n",
       " 'LHn,CLr': 0.0010138957543801648,\n",
       " 'LHn,CLs': 0.0010138957543801648,\n",
       " 'LHn,CLc': 0.0010138957543801648,\n",
       " 'LHn,CLn': 0.0010138957543801648,\n",
       " 'LHn,CLf': 0.0010138957543801648,\n",
       " 'LHn,SVr': 0.0009414746290672958,\n",
       " 'LHn,SVs': 0.0009414746290672958,\n",
       " 'LHn,SVc': 0.0009414746290672958,\n",
       " 'LHn,SVn': 0.0009414746290672958,\n",
       " 'LHn,SVf': 0.0009414746290672958,\n",
       " 'LHn,PGr': 0.00036210562656434456,\n",
       " 'LHn,PGs': 0.00036210562656434456,\n",
       " 'LHn,PGc': 0.00036210562656434456,\n",
       " 'LHn,PGn': 0.00036210562656434456,\n",
       " 'LHn,PGf': 0.00036210562656434456,\n",
       " 'LHn,CSr': 0.0003231096360112613,\n",
       " 'LHn,CSs': 0.0003231096360112613,\n",
       " 'LHn,CSc': 0.0003231096360112613,\n",
       " 'LHn,CSn': 0.0003231096360112613,\n",
       " 'LHn,CSf': 0.0003231096360112613,\n",
       " 'LHn,DRr': 0.0001894090969721187,\n",
       " 'LHn,DRs': 0.0001894090969721187,\n",
       " 'LHn,DRc': 0.0001894090969721187,\n",
       " 'LHn,DRn': 0.0001894090969721187,\n",
       " 'LHn,DRf': 0.0001894090969721187,\n",
       " 'LHn,AAr': 0.0001894090969721187,\n",
       " 'LHn,AAs': 0.0001894090969721187,\n",
       " 'LHn,AAc': 0.0001894090969721187,\n",
       " 'LHn,AAn': 0.0001894090969721187,\n",
       " 'LHn,AAf': 0.0001894090969721187,\n",
       " 'LHn,DKr': 0.0001838382411788211,\n",
       " 'LHn,DKs': 0.0001838382411788211,\n",
       " 'LHn,DKc': 0.0001838382411788211,\n",
       " 'LHn,DKn': 0.0001838382411788211,\n",
       " 'LHn,DKf': 0.0001838382411788211,\n",
       " 'LHn,NHr': 0.00017269652959222586,\n",
       " 'LHn,NHs': 0.00017269652959222586,\n",
       " 'LHn,NHc': 0.00017269652959222586,\n",
       " 'LHn,NHn': 0.00017269652959222586,\n",
       " 'LHn,NHf': 0.00017269652959222586,\n",
       " 'LHn,KRr': 0.00017269652959222586,\n",
       " 'LHn,KRs': 0.00017269652959222586,\n",
       " 'LHn,KRc': 0.00017269652959222586,\n",
       " 'LHn,KRn': 0.00017269652959222586,\n",
       " 'LHn,KRf': 0.00017269652959222586,\n",
       " 'LHn,SPr': 0.00015041310641903543,\n",
       " 'LHn,SPs': 0.00015041310641903543,\n",
       " 'LHn,SPc': 0.00015041310641903543,\n",
       " 'LHn,SPn': 0.00015041310641903543,\n",
       " 'LHn,SPf': 0.00015041310641903543,\n",
       " 'LHn,LNr': 0.0001392713948324402,\n",
       " 'LHn,LNs': 0.0001392713948324402,\n",
       " 'LHn,LNc': 0.0001392713948324402,\n",
       " 'LHn,LNn': 0.0001392713948324402,\n",
       " 'LHn,LNf': 0.0001392713948324402,\n",
       " 'LHn,LSr': 0.00010584626007265456,\n",
       " 'LHn,LSs': 0.00010584626007265456,\n",
       " 'LHn,LSc': 0.00010584626007265456,\n",
       " 'LHn,LSn': 0.00010584626007265456,\n",
       " 'LHn,LSf': 0.00010584626007265456,\n",
       " 'LHn,KMr': 0.00010027540427935696,\n",
       " 'LHn,KMs': 0.00010027540427935696,\n",
       " 'LHn,KMc': 0.00010027540427935696,\n",
       " 'LHn,KMn': 0.00010027540427935696,\n",
       " 'LHn,KMf': 0.00010027540427935696,\n",
       " 'LHn,RGr': 4.456684634638087e-05,\n",
       " 'LHn,RGs': 4.456684634638087e-05,\n",
       " 'LHn,RGc': 4.456684634638087e-05,\n",
       " 'LHn,RGn': 4.456684634638087e-05,\n",
       " 'LHn,RGf': 4.456684634638087e-05,\n",
       " 'LHn,AGr': 1.6712567379892826e-05,\n",
       " 'LHn,AGs': 1.6712567379892826e-05,\n",
       " 'LHn,AGc': 1.6712567379892826e-05,\n",
       " 'LHn,AGn': 1.6712567379892826e-05,\n",
       " 'LHn,AGf': 1.6712567379892826e-05,\n",
       " 'LHn,RKr': 5.570855793297609e-06,\n",
       " 'LHn,RKs': 5.570855793297609e-06,\n",
       " 'LHn,RKc': 5.570855793297609e-06,\n",
       " 'LHn,RKn': 5.570855793297609e-06,\n",
       " 'LHn,RKf': 5.570855793297609e-06,\n",
       " 'LHn,GRr': 0.0,\n",
       " 'LHn,GRs': 0.0,\n",
       " 'LHn,GRc': 0.0,\n",
       " 'LHn,GRn': 0.0,\n",
       " 'LHn,GRf': 0.0,\n",
       " 'LHf,LHr': 0.0015821230452965208,\n",
       " 'LHf,LHs': 0.0015821230452965208,\n",
       " 'LHf,LHc': 0.0015821230452965208,\n",
       " 'LHf,LHn': 0.0015821230452965208,\n",
       " 'LHf,LHf': 0.0015821230452965208,\n",
       " 'LHf,VBr': 0.0012311591303187715,\n",
       " 'LHf,VBs': 0.0012311591303187715,\n",
       " 'LHf,VBc': 0.0012311591303187715,\n",
       " 'LHf,VBn': 0.0012311591303187715,\n",
       " 'LHf,VBf': 0.0012311591303187715,\n",
       " 'LHf,MVr': 0.0010306083217600577,\n",
       " 'LHf,MVs': 0.0010306083217600577,\n",
       " 'LHf,MVc': 0.0010306083217600577,\n",
       " 'LHf,MVn': 0.0010306083217600577,\n",
       " 'LHf,MVf': 0.0010306083217600577,\n",
       " 'LHf,CLr': 0.0010138957543801648,\n",
       " 'LHf,CLs': 0.0010138957543801648,\n",
       " 'LHf,CLc': 0.0010138957543801648,\n",
       " 'LHf,CLn': 0.0010138957543801648,\n",
       " 'LHf,CLf': 0.0010138957543801648,\n",
       " 'LHf,SVr': 0.0009414746290672958,\n",
       " 'LHf,SVs': 0.0009414746290672958,\n",
       " 'LHf,SVc': 0.0009414746290672958,\n",
       " 'LHf,SVn': 0.0009414746290672958,\n",
       " 'LHf,SVf': 0.0009414746290672958,\n",
       " 'LHf,PGr': 0.00036210562656434456,\n",
       " 'LHf,PGs': 0.00036210562656434456,\n",
       " 'LHf,PGc': 0.00036210562656434456,\n",
       " 'LHf,PGn': 0.00036210562656434456,\n",
       " 'LHf,PGf': 0.00036210562656434456,\n",
       " 'LHf,CSr': 0.0003231096360112613,\n",
       " 'LHf,CSs': 0.0003231096360112613,\n",
       " 'LHf,CSc': 0.0003231096360112613,\n",
       " 'LHf,CSn': 0.0003231096360112613,\n",
       " 'LHf,CSf': 0.0003231096360112613,\n",
       " 'LHf,DRr': 0.0001894090969721187,\n",
       " 'LHf,DRs': 0.0001894090969721187,\n",
       " 'LHf,DRc': 0.0001894090969721187,\n",
       " 'LHf,DRn': 0.0001894090969721187,\n",
       " 'LHf,DRf': 0.0001894090969721187,\n",
       " 'LHf,AAr': 0.0001894090969721187,\n",
       " 'LHf,AAs': 0.0001894090969721187,\n",
       " 'LHf,AAc': 0.0001894090969721187,\n",
       " 'LHf,AAn': 0.0001894090969721187,\n",
       " 'LHf,AAf': 0.0001894090969721187,\n",
       " 'LHf,DKr': 0.0001838382411788211,\n",
       " 'LHf,DKs': 0.0001838382411788211,\n",
       " 'LHf,DKc': 0.0001838382411788211,\n",
       " 'LHf,DKn': 0.0001838382411788211,\n",
       " 'LHf,DKf': 0.0001838382411788211,\n",
       " 'LHf,NHr': 0.00017269652959222586,\n",
       " 'LHf,NHs': 0.00017269652959222586,\n",
       " 'LHf,NHc': 0.00017269652959222586,\n",
       " 'LHf,NHn': 0.00017269652959222586,\n",
       " 'LHf,NHf': 0.00017269652959222586,\n",
       " 'LHf,KRr': 0.00017269652959222586,\n",
       " 'LHf,KRs': 0.00017269652959222586,\n",
       " 'LHf,KRc': 0.00017269652959222586,\n",
       " 'LHf,KRn': 0.00017269652959222586,\n",
       " 'LHf,KRf': 0.00017269652959222586,\n",
       " 'LHf,SPr': 0.00015041310641903543,\n",
       " 'LHf,SPs': 0.00015041310641903543,\n",
       " 'LHf,SPc': 0.00015041310641903543,\n",
       " 'LHf,SPn': 0.00015041310641903543,\n",
       " 'LHf,SPf': 0.00015041310641903543,\n",
       " 'LHf,LNr': 0.0001392713948324402,\n",
       " 'LHf,LNs': 0.0001392713948324402,\n",
       " 'LHf,LNc': 0.0001392713948324402,\n",
       " 'LHf,LNn': 0.0001392713948324402,\n",
       " 'LHf,LNf': 0.0001392713948324402,\n",
       " 'LHf,LSr': 0.00010584626007265456,\n",
       " 'LHf,LSs': 0.00010584626007265456,\n",
       " 'LHf,LSc': 0.00010584626007265456,\n",
       " 'LHf,LSn': 0.00010584626007265456,\n",
       " 'LHf,LSf': 0.00010584626007265456,\n",
       " 'LHf,KMr': 0.00010027540427935696,\n",
       " 'LHf,KMs': 0.00010027540427935696,\n",
       " 'LHf,KMc': 0.00010027540427935696,\n",
       " 'LHf,KMn': 0.00010027540427935696,\n",
       " 'LHf,KMf': 0.00010027540427935696,\n",
       " 'LHf,RGr': 4.456684634638087e-05,\n",
       " 'LHf,RGs': 4.456684634638087e-05,\n",
       " 'LHf,RGc': 4.456684634638087e-05,\n",
       " 'LHf,RGn': 4.456684634638087e-05,\n",
       " 'LHf,RGf': 4.456684634638087e-05,\n",
       " 'LHf,AGr': 1.6712567379892826e-05,\n",
       " 'LHf,AGs': 1.6712567379892826e-05,\n",
       " 'LHf,AGc': 1.6712567379892826e-05,\n",
       " 'LHf,AGn': 1.6712567379892826e-05,\n",
       " 'LHf,AGf': 1.6712567379892826e-05,\n",
       " 'LHf,RKr': 5.570855793297609e-06,\n",
       " 'LHf,RKs': 5.570855793297609e-06,\n",
       " 'LHf,RKc': 5.570855793297609e-06,\n",
       " 'LHf,RKn': 5.570855793297609e-06,\n",
       " 'LHf,RKf': 5.570855793297609e-06,\n",
       " 'LHf,GRr': 0.0,\n",
       " 'LHf,GRs': 0.0,\n",
       " 'LHf,GRc': 0.0,\n",
       " 'LHf,GRn': 0.0,\n",
       " 'LHf,GRf': 0.0,\n",
       " 'VBr,LHr': 0.0012311591303187715,\n",
       " 'VBr,LHs': 0.0012311591303187715,\n",
       " 'VBr,LHc': 0.0012311591303187715,\n",
       " 'VBr,LHn': 0.0012311591303187715,\n",
       " 'VBr,LHf': 0.0012311591303187715,\n",
       " 'VBr,VBr': 0.0009580498866212975,\n",
       " 'VBr,VBs': 0.0009580498866212975,\n",
       " 'VBr,VBc': 0.0009580498866212975,\n",
       " 'VBr,VBn': 0.0009580498866212975,\n",
       " 'VBr,VBf': 0.0009580498866212975,\n",
       " 'VBr,MVr': 0.0008019874616513127,\n",
       " 'VBr,MVs': 0.0008019874616513127,\n",
       " 'VBr,MVc': 0.0008019874616513127,\n",
       " 'VBr,MVn': 0.0008019874616513127,\n",
       " 'VBr,MVf': 0.0008019874616513127,\n",
       " 'VBr,CLr': 0.0007889822595704804,\n",
       " 'VBr,CLs': 0.0007889822595704804,\n",
       " 'VBr,CLc': 0.0007889822595704804,\n",
       " 'VBr,CLn': 0.0007889822595704804,\n",
       " 'VBr,CLf': 0.0007889822595704804,\n",
       " 'VBr,SVr': 0.0007326263838868745,\n",
       " 'VBr,SVs': 0.0007326263838868745,\n",
       " 'VBr,SVc': 0.0007326263838868745,\n",
       " 'VBr,SVn': 0.0007326263838868745,\n",
       " 'VBr,SVf': 0.0007326263838868745,\n",
       " 'VBr,PGr': 0.0002817793784180287,\n",
       " 'VBr,PGs': 0.0002817793784180287,\n",
       " 'VBr,PGc': 0.0002817793784180287,\n",
       " 'VBr,PGn': 0.0002817793784180287,\n",
       " 'VBr,PGf': 0.0002817793784180287,\n",
       " 'VBr,CSr': 0.00025143390689608716,\n",
       " 'VBr,CSs': 0.00025143390689608716,\n",
       " 'VBr,CSc': 0.00025143390689608716,\n",
       " 'VBr,CSn': 0.00025143390689608716,\n",
       " 'VBr,CSf': 0.00025143390689608716,\n",
       " 'VBr,DRr': 0.00014739229024943043,\n",
       " 'VBr,DRs': 0.00014739229024943043,\n",
       " 'VBr,DRc': 0.00014739229024943043,\n",
       " 'VBr,DRn': 0.00014739229024943043,\n",
       " 'VBr,DRf': 0.00014739229024943043,\n",
       " 'VBr,AAr': 0.00014739229024943043,\n",
       " 'VBr,AAs': 0.00014739229024943043,\n",
       " 'VBr,AAc': 0.00014739229024943043,\n",
       " 'VBr,AAn': 0.00014739229024943043,\n",
       " 'VBr,AAf': 0.00014739229024943043,\n",
       " 'VBr,DKr': 0.00014305722288915305,\n",
       " 'VBr,DKs': 0.00014305722288915305,\n",
       " 'VBr,DKc': 0.00014305722288915305,\n",
       " 'VBr,DKn': 0.00014305722288915305,\n",
       " 'VBr,DKf': 0.00014305722288915305,\n",
       " 'VBr,NHr': 0.0001343870881685983,\n",
       " 'VBr,NHs': 0.0001343870881685983,\n",
       " 'VBr,NHc': 0.0001343870881685983,\n",
       " 'VBr,NHn': 0.0001343870881685983,\n",
       " 'VBr,NHf': 0.0001343870881685983,\n",
       " 'VBr,KRr': 0.0001343870881685983,\n",
       " 'VBr,KRs': 0.0001343870881685983,\n",
       " 'VBr,KRc': 0.0001343870881685983,\n",
       " 'VBr,KRn': 0.0001343870881685983,\n",
       " 'VBr,KRf': 0.0001343870881685983,\n",
       " 'VBr,SPr': 0.00011704681872748884,\n",
       " 'VBr,SPs': 0.00011704681872748884,\n",
       " 'VBr,SPc': 0.00011704681872748884,\n",
       " 'VBr,SPn': 0.00011704681872748884,\n",
       " 'VBr,SPf': 0.00011704681872748884,\n",
       " 'VBr,LNr': 0.00010837668400693411,\n",
       " 'VBr,LNs': 0.00010837668400693411,\n",
       " 'VBr,LNc': 0.00010837668400693411,\n",
       " 'VBr,LNn': 0.00010837668400693411,\n",
       " 'VBr,LNf': 0.00010837668400693411,\n",
       " 'VBr,LSr': 8.236627984526993e-05,\n",
       " 'VBr,LSs': 8.236627984526993e-05,\n",
       " 'VBr,LSc': 8.236627984526993e-05,\n",
       " 'VBr,LSn': 8.236627984526993e-05,\n",
       " 'VBr,LSf': 8.236627984526993e-05,\n",
       " 'VBr,KMr': 7.803121248499257e-05,\n",
       " 'VBr,KMs': 7.803121248499257e-05,\n",
       " 'VBr,KMc': 7.803121248499257e-05,\n",
       " 'VBr,KMn': 7.803121248499257e-05,\n",
       " 'VBr,KMf': 7.803121248499257e-05,\n",
       " 'VBr,RGr': 3.468053888221892e-05,\n",
       " 'VBr,RGs': 3.468053888221892e-05,\n",
       " 'VBr,RGc': 3.468053888221892e-05,\n",
       " 'VBr,RGn': 3.468053888221892e-05,\n",
       " 'VBr,RGf': 3.468053888221892e-05,\n",
       " 'VBr,AGr': 1.3005202080832094e-05,\n",
       " 'VBr,AGs': 1.3005202080832094e-05,\n",
       " 'VBr,AGc': 1.3005202080832094e-05,\n",
       " 'VBr,AGn': 1.3005202080832094e-05,\n",
       " 'VBr,AGf': 1.3005202080832094e-05,\n",
       " 'VBr,RKr': 4.335067360277365e-06,\n",
       " 'VBr,RKs': 4.335067360277365e-06,\n",
       " 'VBr,RKc': 4.335067360277365e-06,\n",
       " 'VBr,RKn': 4.335067360277365e-06,\n",
       " 'VBr,RKf': 4.335067360277365e-06,\n",
       " 'VBr,GRr': 0.0,\n",
       " 'VBr,GRs': 0.0,\n",
       " 'VBr,GRc': 0.0,\n",
       " 'VBr,GRn': 0.0,\n",
       " 'VBr,GRf': 0.0,\n",
       " 'VBs,LHr': 0.0012311591303187715,\n",
       " 'VBs,LHs': 0.0012311591303187715,\n",
       " 'VBs,LHc': 0.0012311591303187715,\n",
       " 'VBs,LHn': 0.0012311591303187715,\n",
       " 'VBs,LHf': 0.0012311591303187715,\n",
       " 'VBs,VBr': 0.0009580498866212975,\n",
       " 'VBs,VBs': 0.0009580498866212975,\n",
       " 'VBs,VBc': 0.0009580498866212975,\n",
       " 'VBs,VBn': 0.0009580498866212975,\n",
       " 'VBs,VBf': 0.0009580498866212975,\n",
       " 'VBs,MVr': 0.0008019874616513127,\n",
       " 'VBs,MVs': 0.0008019874616513127,\n",
       " 'VBs,MVc': 0.0008019874616513127,\n",
       " 'VBs,MVn': 0.0008019874616513127,\n",
       " 'VBs,MVf': 0.0008019874616513127,\n",
       " 'VBs,CLr': 0.0007889822595704804,\n",
       " 'VBs,CLs': 0.0007889822595704804,\n",
       " 'VBs,CLc': 0.0007889822595704804,\n",
       " 'VBs,CLn': 0.0007889822595704804,\n",
       " 'VBs,CLf': 0.0007889822595704804,\n",
       " 'VBs,SVr': 0.0007326263838868745,\n",
       " 'VBs,SVs': 0.0007326263838868745,\n",
       " 'VBs,SVc': 0.0007326263838868745,\n",
       " 'VBs,SVn': 0.0007326263838868745,\n",
       " 'VBs,SVf': 0.0007326263838868745,\n",
       " 'VBs,PGr': 0.0002817793784180287,\n",
       " 'VBs,PGs': 0.0002817793784180287,\n",
       " 'VBs,PGc': 0.0002817793784180287,\n",
       " 'VBs,PGn': 0.0002817793784180287,\n",
       " 'VBs,PGf': 0.0002817793784180287,\n",
       " 'VBs,CSr': 0.00025143390689608716,\n",
       " 'VBs,CSs': 0.00025143390689608716,\n",
       " 'VBs,CSc': 0.00025143390689608716,\n",
       " 'VBs,CSn': 0.00025143390689608716,\n",
       " 'VBs,CSf': 0.00025143390689608716,\n",
       " 'VBs,DRr': 0.00014739229024943043,\n",
       " 'VBs,DRs': 0.00014739229024943043,\n",
       " 'VBs,DRc': 0.00014739229024943043,\n",
       " 'VBs,DRn': 0.00014739229024943043,\n",
       " 'VBs,DRf': 0.00014739229024943043,\n",
       " 'VBs,AAr': 0.00014739229024943043,\n",
       " 'VBs,AAs': 0.00014739229024943043,\n",
       " 'VBs,AAc': 0.00014739229024943043,\n",
       " 'VBs,AAn': 0.00014739229024943043,\n",
       " 'VBs,AAf': 0.00014739229024943043,\n",
       " 'VBs,DKr': 0.00014305722288915305,\n",
       " 'VBs,DKs': 0.00014305722288915305,\n",
       " 'VBs,DKc': 0.00014305722288915305,\n",
       " 'VBs,DKn': 0.00014305722288915305,\n",
       " 'VBs,DKf': 0.00014305722288915305,\n",
       " 'VBs,NHr': 0.0001343870881685983,\n",
       " 'VBs,NHs': 0.0001343870881685983,\n",
       " 'VBs,NHc': 0.0001343870881685983,\n",
       " 'VBs,NHn': 0.0001343870881685983,\n",
       " 'VBs,NHf': 0.0001343870881685983,\n",
       " 'VBs,KRr': 0.0001343870881685983,\n",
       " 'VBs,KRs': 0.0001343870881685983,\n",
       " 'VBs,KRc': 0.0001343870881685983,\n",
       " 'VBs,KRn': 0.0001343870881685983,\n",
       " 'VBs,KRf': 0.0001343870881685983,\n",
       " 'VBs,SPr': 0.00011704681872748884,\n",
       " 'VBs,SPs': 0.00011704681872748884,\n",
       " 'VBs,SPc': 0.00011704681872748884,\n",
       " 'VBs,SPn': 0.00011704681872748884,\n",
       " 'VBs,SPf': 0.00011704681872748884,\n",
       " 'VBs,LNr': 0.00010837668400693411,\n",
       " 'VBs,LNs': 0.00010837668400693411,\n",
       " 'VBs,LNc': 0.00010837668400693411,\n",
       " 'VBs,LNn': 0.00010837668400693411,\n",
       " 'VBs,LNf': 0.00010837668400693411,\n",
       " 'VBs,LSr': 8.236627984526993e-05,\n",
       " 'VBs,LSs': 8.236627984526993e-05,\n",
       " 'VBs,LSc': 8.236627984526993e-05,\n",
       " 'VBs,LSn': 8.236627984526993e-05,\n",
       " 'VBs,LSf': 8.236627984526993e-05,\n",
       " 'VBs,KMr': 7.803121248499257e-05,\n",
       " 'VBs,KMs': 7.803121248499257e-05,\n",
       " 'VBs,KMc': 7.803121248499257e-05,\n",
       " 'VBs,KMn': 7.803121248499257e-05,\n",
       " 'VBs,KMf': 7.803121248499257e-05,\n",
       " 'VBs,RGr': 3.468053888221892e-05,\n",
       " 'VBs,RGs': 3.468053888221892e-05,\n",
       " 'VBs,RGc': 3.468053888221892e-05,\n",
       " 'VBs,RGn': 3.468053888221892e-05,\n",
       " 'VBs,RGf': 3.468053888221892e-05,\n",
       " 'VBs,AGr': 1.3005202080832094e-05,\n",
       " 'VBs,AGs': 1.3005202080832094e-05,\n",
       " 'VBs,AGc': 1.3005202080832094e-05,\n",
       " 'VBs,AGn': 1.3005202080832094e-05,\n",
       " 'VBs,AGf': 1.3005202080832094e-05,\n",
       " 'VBs,RKr': 4.335067360277365e-06,\n",
       " 'VBs,RKs': 4.335067360277365e-06,\n",
       " 'VBs,RKc': 4.335067360277365e-06,\n",
       " 'VBs,RKn': 4.335067360277365e-06,\n",
       " 'VBs,RKf': 4.335067360277365e-06,\n",
       " 'VBs,GRr': 0.0,\n",
       " 'VBs,GRs': 0.0,\n",
       " 'VBs,GRc': 0.0,\n",
       " 'VBs,GRn': 0.0,\n",
       " 'VBs,GRf': 0.0,\n",
       " 'VBc,LHr': 0.0012311591303187715,\n",
       " 'VBc,LHs': 0.0012311591303187715,\n",
       " 'VBc,LHc': 0.0012311591303187715,\n",
       " 'VBc,LHn': 0.0012311591303187715,\n",
       " 'VBc,LHf': 0.0012311591303187715,\n",
       " 'VBc,VBr': 0.0009580498866212975,\n",
       " 'VBc,VBs': 0.0009580498866212975,\n",
       " 'VBc,VBc': 0.0009580498866212975,\n",
       " 'VBc,VBn': 0.0009580498866212975,\n",
       " 'VBc,VBf': 0.0009580498866212975,\n",
       " 'VBc,MVr': 0.0008019874616513127,\n",
       " 'VBc,MVs': 0.0008019874616513127,\n",
       " 'VBc,MVc': 0.0008019874616513127,\n",
       " 'VBc,MVn': 0.0008019874616513127,\n",
       " 'VBc,MVf': 0.0008019874616513127,\n",
       " 'VBc,CLr': 0.0007889822595704804,\n",
       " 'VBc,CLs': 0.0007889822595704804,\n",
       " 'VBc,CLc': 0.0007889822595704804,\n",
       " 'VBc,CLn': 0.0007889822595704804,\n",
       " 'VBc,CLf': 0.0007889822595704804,\n",
       " 'VBc,SVr': 0.0007326263838868745,\n",
       " 'VBc,SVs': 0.0007326263838868745,\n",
       " 'VBc,SVc': 0.0007326263838868745,\n",
       " 'VBc,SVn': 0.0007326263838868745,\n",
       " 'VBc,SVf': 0.0007326263838868745,\n",
       " 'VBc,PGr': 0.0002817793784180287,\n",
       " 'VBc,PGs': 0.0002817793784180287,\n",
       " 'VBc,PGc': 0.0002817793784180287,\n",
       " 'VBc,PGn': 0.0002817793784180287,\n",
       " 'VBc,PGf': 0.0002817793784180287,\n",
       " 'VBc,CSr': 0.00025143390689608716,\n",
       " 'VBc,CSs': 0.00025143390689608716,\n",
       " 'VBc,CSc': 0.00025143390689608716,\n",
       " 'VBc,CSn': 0.00025143390689608716,\n",
       " 'VBc,CSf': 0.00025143390689608716,\n",
       " 'VBc,DRr': 0.00014739229024943043,\n",
       " 'VBc,DRs': 0.00014739229024943043,\n",
       " 'VBc,DRc': 0.00014739229024943043,\n",
       " 'VBc,DRn': 0.00014739229024943043,\n",
       " 'VBc,DRf': 0.00014739229024943043,\n",
       " 'VBc,AAr': 0.00014739229024943043,\n",
       " 'VBc,AAs': 0.00014739229024943043,\n",
       " 'VBc,AAc': 0.00014739229024943043,\n",
       " 'VBc,AAn': 0.00014739229024943043,\n",
       " 'VBc,AAf': 0.00014739229024943043,\n",
       " 'VBc,DKr': 0.00014305722288915305,\n",
       " 'VBc,DKs': 0.00014305722288915305,\n",
       " 'VBc,DKc': 0.00014305722288915305,\n",
       " 'VBc,DKn': 0.00014305722288915305,\n",
       " 'VBc,DKf': 0.00014305722288915305,\n",
       " 'VBc,NHr': 0.0001343870881685983,\n",
       " 'VBc,NHs': 0.0001343870881685983,\n",
       " 'VBc,NHc': 0.0001343870881685983,\n",
       " 'VBc,NHn': 0.0001343870881685983,\n",
       " 'VBc,NHf': 0.0001343870881685983,\n",
       " 'VBc,KRr': 0.0001343870881685983,\n",
       " 'VBc,KRs': 0.0001343870881685983,\n",
       " 'VBc,KRc': 0.0001343870881685983,\n",
       " 'VBc,KRn': 0.0001343870881685983,\n",
       " 'VBc,KRf': 0.0001343870881685983,\n",
       " 'VBc,SPr': 0.00011704681872748884,\n",
       " 'VBc,SPs': 0.00011704681872748884,\n",
       " 'VBc,SPc': 0.00011704681872748884,\n",
       " 'VBc,SPn': 0.00011704681872748884,\n",
       " 'VBc,SPf': 0.00011704681872748884,\n",
       " 'VBc,LNr': 0.00010837668400693411,\n",
       " 'VBc,LNs': 0.00010837668400693411,\n",
       " 'VBc,LNc': 0.00010837668400693411,\n",
       " 'VBc,LNn': 0.00010837668400693411,\n",
       " 'VBc,LNf': 0.00010837668400693411,\n",
       " 'VBc,LSr': 8.236627984526993e-05,\n",
       " 'VBc,LSs': 8.236627984526993e-05,\n",
       " 'VBc,LSc': 8.236627984526993e-05,\n",
       " 'VBc,LSn': 8.236627984526993e-05,\n",
       " 'VBc,LSf': 8.236627984526993e-05,\n",
       " 'VBc,KMr': 7.803121248499257e-05,\n",
       " 'VBc,KMs': 7.803121248499257e-05,\n",
       " 'VBc,KMc': 7.803121248499257e-05,\n",
       " 'VBc,KMn': 7.803121248499257e-05,\n",
       " 'VBc,KMf': 7.803121248499257e-05,\n",
       " 'VBc,RGr': 3.468053888221892e-05,\n",
       " 'VBc,RGs': 3.468053888221892e-05,\n",
       " 'VBc,RGc': 3.468053888221892e-05,\n",
       " 'VBc,RGn': 3.468053888221892e-05,\n",
       " 'VBc,RGf': 3.468053888221892e-05,\n",
       " 'VBc,AGr': 1.3005202080832094e-05,\n",
       " 'VBc,AGs': 1.3005202080832094e-05,\n",
       " 'VBc,AGc': 1.3005202080832094e-05,\n",
       " 'VBc,AGn': 1.3005202080832094e-05,\n",
       " 'VBc,AGf': 1.3005202080832094e-05,\n",
       " 'VBc,RKr': 4.335067360277365e-06,\n",
       " 'VBc,RKs': 4.335067360277365e-06,\n",
       " 'VBc,RKc': 4.335067360277365e-06,\n",
       " 'VBc,RKn': 4.335067360277365e-06,\n",
       " 'VBc,RKf': 4.335067360277365e-06,\n",
       " 'VBc,GRr': 0.0,\n",
       " 'VBc,GRs': 0.0,\n",
       " 'VBc,GRc': 0.0,\n",
       " 'VBc,GRn': 0.0,\n",
       " 'VBc,GRf': 0.0,\n",
       " 'VBn,LHr': 0.0012311591303187715,\n",
       " 'VBn,LHs': 0.0012311591303187715,\n",
       " 'VBn,LHc': 0.0012311591303187715,\n",
       " 'VBn,LHn': 0.0012311591303187715,\n",
       " 'VBn,LHf': 0.0012311591303187715,\n",
       " 'VBn,VBr': 0.0009580498866212975,\n",
       " 'VBn,VBs': 0.0009580498866212975,\n",
       " 'VBn,VBc': 0.0009580498866212975,\n",
       " 'VBn,VBn': 0.0009580498866212975,\n",
       " 'VBn,VBf': 0.0009580498866212975,\n",
       " 'VBn,MVr': 0.0008019874616513127,\n",
       " 'VBn,MVs': 0.0008019874616513127,\n",
       " 'VBn,MVc': 0.0008019874616513127,\n",
       " 'VBn,MVn': 0.0008019874616513127,\n",
       " 'VBn,MVf': 0.0008019874616513127,\n",
       " 'VBn,CLr': 0.0007889822595704804,\n",
       " 'VBn,CLs': 0.0007889822595704804,\n",
       " 'VBn,CLc': 0.0007889822595704804,\n",
       " 'VBn,CLn': 0.0007889822595704804,\n",
       " 'VBn,CLf': 0.0007889822595704804,\n",
       " 'VBn,SVr': 0.0007326263838868745,\n",
       " 'VBn,SVs': 0.0007326263838868745,\n",
       " 'VBn,SVc': 0.0007326263838868745,\n",
       " 'VBn,SVn': 0.0007326263838868745,\n",
       " 'VBn,SVf': 0.0007326263838868745,\n",
       " 'VBn,PGr': 0.0002817793784180287,\n",
       " 'VBn,PGs': 0.0002817793784180287,\n",
       " 'VBn,PGc': 0.0002817793784180287,\n",
       " 'VBn,PGn': 0.0002817793784180287,\n",
       " 'VBn,PGf': 0.0002817793784180287,\n",
       " 'VBn,CSr': 0.00025143390689608716,\n",
       " 'VBn,CSs': 0.00025143390689608716,\n",
       " 'VBn,CSc': 0.00025143390689608716,\n",
       " 'VBn,CSn': 0.00025143390689608716,\n",
       " 'VBn,CSf': 0.00025143390689608716,\n",
       " 'VBn,DRr': 0.00014739229024943043,\n",
       " 'VBn,DRs': 0.00014739229024943043,\n",
       " 'VBn,DRc': 0.00014739229024943043,\n",
       " 'VBn,DRn': 0.00014739229024943043,\n",
       " 'VBn,DRf': 0.00014739229024943043,\n",
       " 'VBn,AAr': 0.00014739229024943043,\n",
       " 'VBn,AAs': 0.00014739229024943043,\n",
       " 'VBn,AAc': 0.00014739229024943043,\n",
       " 'VBn,AAn': 0.00014739229024943043,\n",
       " 'VBn,AAf': 0.00014739229024943043,\n",
       " 'VBn,DKr': 0.00014305722288915305,\n",
       " 'VBn,DKs': 0.00014305722288915305,\n",
       " 'VBn,DKc': 0.00014305722288915305,\n",
       " 'VBn,DKn': 0.00014305722288915305,\n",
       " 'VBn,DKf': 0.00014305722288915305,\n",
       " 'VBn,NHr': 0.0001343870881685983,\n",
       " 'VBn,NHs': 0.0001343870881685983,\n",
       " 'VBn,NHc': 0.0001343870881685983,\n",
       " 'VBn,NHn': 0.0001343870881685983,\n",
       " 'VBn,NHf': 0.0001343870881685983,\n",
       " 'VBn,KRr': 0.0001343870881685983,\n",
       " 'VBn,KRs': 0.0001343870881685983,\n",
       " 'VBn,KRc': 0.0001343870881685983,\n",
       " 'VBn,KRn': 0.0001343870881685983,\n",
       " 'VBn,KRf': 0.0001343870881685983,\n",
       " 'VBn,SPr': 0.00011704681872748884,\n",
       " 'VBn,SPs': 0.00011704681872748884,\n",
       " 'VBn,SPc': 0.00011704681872748884,\n",
       " 'VBn,SPn': 0.00011704681872748884,\n",
       " 'VBn,SPf': 0.00011704681872748884,\n",
       " 'VBn,LNr': 0.00010837668400693411,\n",
       " 'VBn,LNs': 0.00010837668400693411,\n",
       " 'VBn,LNc': 0.00010837668400693411,\n",
       " 'VBn,LNn': 0.00010837668400693411,\n",
       " 'VBn,LNf': 0.00010837668400693411,\n",
       " 'VBn,LSr': 8.236627984526993e-05,\n",
       " 'VBn,LSs': 8.236627984526993e-05,\n",
       " 'VBn,LSc': 8.236627984526993e-05,\n",
       " 'VBn,LSn': 8.236627984526993e-05,\n",
       " 'VBn,LSf': 8.236627984526993e-05,\n",
       " 'VBn,KMr': 7.803121248499257e-05,\n",
       " 'VBn,KMs': 7.803121248499257e-05,\n",
       " 'VBn,KMc': 7.803121248499257e-05,\n",
       " 'VBn,KMn': 7.803121248499257e-05,\n",
       " 'VBn,KMf': 7.803121248499257e-05,\n",
       " 'VBn,RGr': 3.468053888221892e-05,\n",
       " 'VBn,RGs': 3.468053888221892e-05,\n",
       " 'VBn,RGc': 3.468053888221892e-05,\n",
       " 'VBn,RGn': 3.468053888221892e-05,\n",
       " 'VBn,RGf': 3.468053888221892e-05,\n",
       " 'VBn,AGr': 1.3005202080832094e-05,\n",
       " 'VBn,AGs': 1.3005202080832094e-05,\n",
       " 'VBn,AGc': 1.3005202080832094e-05,\n",
       " 'VBn,AGn': 1.3005202080832094e-05,\n",
       " 'VBn,AGf': 1.3005202080832094e-05,\n",
       " 'VBn,RKr': 4.335067360277365e-06,\n",
       " 'VBn,RKs': 4.335067360277365e-06,\n",
       " 'VBn,RKc': 4.335067360277365e-06,\n",
       " 'VBn,RKn': 4.335067360277365e-06,\n",
       " 'VBn,RKf': 4.335067360277365e-06,\n",
       " 'VBn,GRr': 0.0,\n",
       " 'VBn,GRs': 0.0,\n",
       " 'VBn,GRc': 0.0,\n",
       " 'VBn,GRn': 0.0,\n",
       " 'VBn,GRf': 0.0,\n",
       " 'VBf,LHr': 0.0012311591303187715,\n",
       " 'VBf,LHs': 0.0012311591303187715,\n",
       " 'VBf,LHc': 0.0012311591303187715,\n",
       " 'VBf,LHn': 0.0012311591303187715,\n",
       " 'VBf,LHf': 0.0012311591303187715,\n",
       " 'VBf,VBr': 0.0009580498866212975,\n",
       " 'VBf,VBs': 0.0009580498866212975,\n",
       " 'VBf,VBc': 0.0009580498866212975,\n",
       " 'VBf,VBn': 0.0009580498866212975,\n",
       " 'VBf,VBf': 0.0009580498866212975,\n",
       " 'VBf,MVr': 0.0008019874616513127,\n",
       " 'VBf,MVs': 0.0008019874616513127,\n",
       " 'VBf,MVc': 0.0008019874616513127,\n",
       " 'VBf,MVn': 0.0008019874616513127,\n",
       " 'VBf,MVf': 0.0008019874616513127,\n",
       " 'VBf,CLr': 0.0007889822595704804,\n",
       " 'VBf,CLs': 0.0007889822595704804,\n",
       " 'VBf,CLc': 0.0007889822595704804,\n",
       " 'VBf,CLn': 0.0007889822595704804,\n",
       " 'VBf,CLf': 0.0007889822595704804,\n",
       " 'VBf,SVr': 0.0007326263838868745,\n",
       " 'VBf,SVs': 0.0007326263838868745,\n",
       " 'VBf,SVc': 0.0007326263838868745,\n",
       " 'VBf,SVn': 0.0007326263838868745,\n",
       " 'VBf,SVf': 0.0007326263838868745,\n",
       " 'VBf,PGr': 0.0002817793784180287,\n",
       " 'VBf,PGs': 0.0002817793784180287,\n",
       " 'VBf,PGc': 0.0002817793784180287,\n",
       " 'VBf,PGn': 0.0002817793784180287,\n",
       " 'VBf,PGf': 0.0002817793784180287,\n",
       " 'VBf,CSr': 0.00025143390689608716,\n",
       " 'VBf,CSs': 0.00025143390689608716,\n",
       " 'VBf,CSc': 0.00025143390689608716,\n",
       " 'VBf,CSn': 0.00025143390689608716,\n",
       " 'VBf,CSf': 0.00025143390689608716,\n",
       " 'VBf,DRr': 0.00014739229024943043,\n",
       " 'VBf,DRs': 0.00014739229024943043,\n",
       " 'VBf,DRc': 0.00014739229024943043,\n",
       " 'VBf,DRn': 0.00014739229024943043,\n",
       " 'VBf,DRf': 0.00014739229024943043,\n",
       " 'VBf,AAr': 0.00014739229024943043,\n",
       " 'VBf,AAs': 0.00014739229024943043,\n",
       " 'VBf,AAc': 0.00014739229024943043,\n",
       " 'VBf,AAn': 0.00014739229024943043,\n",
       " 'VBf,AAf': 0.00014739229024943043,\n",
       " 'VBf,DKr': 0.00014305722288915305,\n",
       " 'VBf,DKs': 0.00014305722288915305,\n",
       " 'VBf,DKc': 0.00014305722288915305,\n",
       " 'VBf,DKn': 0.00014305722288915305,\n",
       " 'VBf,DKf': 0.00014305722288915305,\n",
       " 'VBf,NHr': 0.0001343870881685983,\n",
       " 'VBf,NHs': 0.0001343870881685983,\n",
       " 'VBf,NHc': 0.0001343870881685983,\n",
       " 'VBf,NHn': 0.0001343870881685983,\n",
       " 'VBf,NHf': 0.0001343870881685983,\n",
       " 'VBf,KRr': 0.0001343870881685983,\n",
       " 'VBf,KRs': 0.0001343870881685983,\n",
       " 'VBf,KRc': 0.0001343870881685983,\n",
       " 'VBf,KRn': 0.0001343870881685983,\n",
       " 'VBf,KRf': 0.0001343870881685983,\n",
       " 'VBf,SPr': 0.00011704681872748884,\n",
       " 'VBf,SPs': 0.00011704681872748884,\n",
       " 'VBf,SPc': 0.00011704681872748884,\n",
       " 'VBf,SPn': 0.00011704681872748884,\n",
       " 'VBf,SPf': 0.00011704681872748884,\n",
       " 'VBf,LNr': 0.00010837668400693411,\n",
       " 'VBf,LNs': 0.00010837668400693411,\n",
       " 'VBf,LNc': 0.00010837668400693411,\n",
       " 'VBf,LNn': 0.00010837668400693411,\n",
       " 'VBf,LNf': 0.00010837668400693411,\n",
       " 'VBf,LSr': 8.236627984526993e-05,\n",
       " 'VBf,LSs': 8.236627984526993e-05,\n",
       " 'VBf,LSc': 8.236627984526993e-05,\n",
       " 'VBf,LSn': 8.236627984526993e-05,\n",
       " 'VBf,LSf': 8.236627984526993e-05,\n",
       " 'VBf,KMr': 7.803121248499257e-05,\n",
       " 'VBf,KMs': 7.803121248499257e-05,\n",
       " 'VBf,KMc': 7.803121248499257e-05,\n",
       " 'VBf,KMn': 7.803121248499257e-05,\n",
       " 'VBf,KMf': 7.803121248499257e-05,\n",
       " 'VBf,RGr': 3.468053888221892e-05,\n",
       " 'VBf,RGs': 3.468053888221892e-05,\n",
       " 'VBf,RGc': 3.468053888221892e-05,\n",
       " 'VBf,RGn': 3.468053888221892e-05,\n",
       " 'VBf,RGf': 3.468053888221892e-05,\n",
       " 'VBf,AGr': 1.3005202080832094e-05,\n",
       " 'VBf,AGs': 1.3005202080832094e-05,\n",
       " 'VBf,AGc': 1.3005202080832094e-05,\n",
       " 'VBf,AGn': 1.3005202080832094e-05,\n",
       " 'VBf,AGf': 1.3005202080832094e-05,\n",
       " 'VBf,RKr': 4.335067360277365e-06,\n",
       " 'VBf,RKs': 4.335067360277365e-06,\n",
       " 'VBf,RKc': 4.335067360277365e-06,\n",
       " 'VBf,RKn': 4.335067360277365e-06,\n",
       " 'VBf,RKf': 4.335067360277365e-06,\n",
       " 'VBf,GRr': 0.0,\n",
       " 'VBf,GRs': 0.0,\n",
       " 'VBf,GRc': 0.0,\n",
       " 'VBf,GRn': 0.0,\n",
       " 'VBf,GRf': 0.0,\n",
       " ...}"
      ]
     },
     "execution_count": 35,
     "metadata": {},
     "output_type": "execute_result"
    }
   ],
   "source": [
    "weather_pd = ProbDist(r=1,s=1,c=1,n=1,f=1)\n",
    "weather_pd\n",
    "weather_with_SGP = joint_separate(SGP,weather_pd,sep='')\n",
    "winner_weather = joint(weather_with_SGP,sep=',')\n",
    "winner_weather"
   ]
  },
  {
   "cell_type": "markdown",
   "metadata": {},
   "source": [
    "Probability of Mercedes winning the first race in rainy track conditions"
   ]
  },
  {
   "cell_type": "code",
   "execution_count": 36,
   "metadata": {},
   "outputs": [
    {
     "data": {
      "text/plain": [
       "0.07072829131652532"
      ]
     },
     "execution_count": 36,
     "metadata": {},
     "output_type": "execute_result"
    }
   ],
   "source": [
    "def mercedes_win_first_race_rain(outcome) : return 'LHr,' in outcome or 'VBr,' in outcome\n",
    "p(mercedes_win_first_race_rain,winner_weather)"
   ]
  },
  {
   "cell_type": "markdown",
   "metadata": {},
   "source": [
    "Probability of Mercedes winning at least one race considering any track weather conditions. We can actually use \"return 'LH' in outcome or 'VB' in outcome\" it will give the same probability. "
   ]
  },
  {
   "cell_type": "code",
   "execution_count": 37,
   "metadata": {},
   "outputs": [
    {
     "data": {
      "text/plain": [
       "0.5822206333513592"
      ]
     },
     "execution_count": 37,
     "metadata": {},
     "output_type": "execute_result"
    }
   ],
   "source": [
    "def mercedes_win_atleast_one_race_any_weather(outcome) : return 'LHr' in outcome or 'VBr' in outcome or 'LHs' in outcome or 'VBs' in outcome or 'LHc' in outcome or 'VBc' in outcome or 'LHn' in outcome or 'VBn' in outcome or 'LHf' in outcome or 'VBf' in outcome\n",
    "p(mercedes_win_atleast_one_race_any_weather,winner_weather)"
   ]
  },
  {
   "cell_type": "markdown",
   "metadata": {},
   "source": [
    "Probability of Mercedes winning second race given any weather conditions on track."
   ]
  },
  {
   "cell_type": "code",
   "execution_count": 38,
   "metadata": {},
   "outputs": [
    {
     "data": {
      "text/plain": [
       "0.3536414565826253"
      ]
     },
     "execution_count": 38,
     "metadata": {},
     "output_type": "execute_result"
    }
   ],
   "source": [
    "def mercedes_win_second_race(outcome) : return ',LH' in outcome or ',VB' in outcome \n",
    "p(mercedes_win_second_race,winner_weather)"
   ]
  },
  {
   "cell_type": "markdown",
   "metadata": {},
   "source": [
    "Probability of Mercedes winning second race in any weather conditions given the event that they won the first race in rainy track condition. "
   ]
  },
  {
   "cell_type": "code",
   "execution_count": 250,
   "metadata": {},
   "outputs": [
    {
     "data": {
      "text/plain": [
       "0.353641456582633"
      ]
     },
     "execution_count": 250,
     "metadata": {},
     "output_type": "execute_result"
    }
   ],
   "source": [
    "p(mercedes_win_second_race,such_that(mercedes_win_first_race_rain,winner_weather))"
   ]
  }
 ],
 "metadata": {
  "kernelspec": {
   "display_name": "Python 3",
   "language": "python",
   "name": "python3"
  },
  "language_info": {
   "codemirror_mode": {
    "name": "ipython",
    "version": 3
   },
   "file_extension": ".py",
   "mimetype": "text/x-python",
   "name": "python",
   "nbconvert_exporter": "python",
   "pygments_lexer": "ipython3",
   "version": "3.7.3"
  }
 },
 "nbformat": 4,
 "nbformat_minor": 2
}
